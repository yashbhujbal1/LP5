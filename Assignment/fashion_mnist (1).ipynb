{
 "cells": [
  {
   "cell_type": "code",
   "execution_count": null,
   "metadata": {
    "id": "ooPxoMVP4a15"
   },
   "outputs": [],
   "source": [
    "import numpy as np\n",
    "import pandas as pd\n",
    "import matplotlib.pyplot as plt\n",
    "import seaborn as sns"
   ]
  },
  {
   "cell_type": "code",
   "execution_count": null,
   "metadata": {
    "id": "nCqfwJ1k4tvn"
   },
   "outputs": [],
   "source": [
    "%matplotlib inline"
   ]
  },
  {
   "cell_type": "code",
   "execution_count": null,
   "metadata": {
    "id": "08_sTJgv4zNh"
   },
   "outputs": [],
   "source": [
    "fashion_train_df= pd.read_csv('/content/drive/MyDrive/archive/fashion-mnist_train.csv')"
   ]
  },
  {
   "cell_type": "code",
   "execution_count": null,
   "metadata": {
    "id": "nzH17Opt48GA"
   },
   "outputs": [],
   "source": [
    "fashion_test_df = pd.read_csv('/content/drive/MyDrive/archive/fashion-mnist_test.csv')"
   ]
  },
  {
   "cell_type": "code",
   "execution_count": null,
   "metadata": {
    "colab": {
     "base_uri": "https://localhost:8080/",
     "height": 300
    },
    "id": "S8Jn0K9e5BsI",
    "outputId": "e093c30e-255e-4baa-87e3-27e99ce672b4"
   },
   "outputs": [
    {
     "data": {
      "text/html": [
       "\n",
       "  <div id=\"df-3bbf2c2d-6c00-434f-a03e-0483da596d66\">\n",
       "    <div class=\"colab-df-container\">\n",
       "      <div>\n",
       "<style scoped>\n",
       "    .dataframe tbody tr th:only-of-type {\n",
       "        vertical-align: middle;\n",
       "    }\n",
       "\n",
       "    .dataframe tbody tr th {\n",
       "        vertical-align: top;\n",
       "    }\n",
       "\n",
       "    .dataframe thead th {\n",
       "        text-align: right;\n",
       "    }\n",
       "</style>\n",
       "<table border=\"1\" class=\"dataframe\">\n",
       "  <thead>\n",
       "    <tr style=\"text-align: right;\">\n",
       "      <th></th>\n",
       "      <th>label</th>\n",
       "      <th>pixel1</th>\n",
       "      <th>pixel2</th>\n",
       "      <th>pixel3</th>\n",
       "      <th>pixel4</th>\n",
       "      <th>pixel5</th>\n",
       "      <th>pixel6</th>\n",
       "      <th>pixel7</th>\n",
       "      <th>pixel8</th>\n",
       "      <th>pixel9</th>\n",
       "      <th>...</th>\n",
       "      <th>pixel775</th>\n",
       "      <th>pixel776</th>\n",
       "      <th>pixel777</th>\n",
       "      <th>pixel778</th>\n",
       "      <th>pixel779</th>\n",
       "      <th>pixel780</th>\n",
       "      <th>pixel781</th>\n",
       "      <th>pixel782</th>\n",
       "      <th>pixel783</th>\n",
       "      <th>pixel784</th>\n",
       "    </tr>\n",
       "  </thead>\n",
       "  <tbody>\n",
       "    <tr>\n",
       "      <th>0</th>\n",
       "      <td>2</td>\n",
       "      <td>0</td>\n",
       "      <td>0</td>\n",
       "      <td>0</td>\n",
       "      <td>0</td>\n",
       "      <td>0</td>\n",
       "      <td>0</td>\n",
       "      <td>0</td>\n",
       "      <td>0</td>\n",
       "      <td>0</td>\n",
       "      <td>...</td>\n",
       "      <td>0</td>\n",
       "      <td>0</td>\n",
       "      <td>0</td>\n",
       "      <td>0</td>\n",
       "      <td>0</td>\n",
       "      <td>0</td>\n",
       "      <td>0</td>\n",
       "      <td>0</td>\n",
       "      <td>0</td>\n",
       "      <td>0</td>\n",
       "    </tr>\n",
       "    <tr>\n",
       "      <th>1</th>\n",
       "      <td>9</td>\n",
       "      <td>0</td>\n",
       "      <td>0</td>\n",
       "      <td>0</td>\n",
       "      <td>0</td>\n",
       "      <td>0</td>\n",
       "      <td>0</td>\n",
       "      <td>0</td>\n",
       "      <td>0</td>\n",
       "      <td>0</td>\n",
       "      <td>...</td>\n",
       "      <td>0</td>\n",
       "      <td>0</td>\n",
       "      <td>0</td>\n",
       "      <td>0</td>\n",
       "      <td>0</td>\n",
       "      <td>0</td>\n",
       "      <td>0</td>\n",
       "      <td>0</td>\n",
       "      <td>0</td>\n",
       "      <td>0</td>\n",
       "    </tr>\n",
       "    <tr>\n",
       "      <th>2</th>\n",
       "      <td>6</td>\n",
       "      <td>0</td>\n",
       "      <td>0</td>\n",
       "      <td>0</td>\n",
       "      <td>0</td>\n",
       "      <td>0</td>\n",
       "      <td>0</td>\n",
       "      <td>0</td>\n",
       "      <td>5</td>\n",
       "      <td>0</td>\n",
       "      <td>...</td>\n",
       "      <td>0</td>\n",
       "      <td>0</td>\n",
       "      <td>0</td>\n",
       "      <td>30</td>\n",
       "      <td>43</td>\n",
       "      <td>0</td>\n",
       "      <td>0</td>\n",
       "      <td>0</td>\n",
       "      <td>0</td>\n",
       "      <td>0</td>\n",
       "    </tr>\n",
       "    <tr>\n",
       "      <th>3</th>\n",
       "      <td>0</td>\n",
       "      <td>0</td>\n",
       "      <td>0</td>\n",
       "      <td>0</td>\n",
       "      <td>1</td>\n",
       "      <td>2</td>\n",
       "      <td>0</td>\n",
       "      <td>0</td>\n",
       "      <td>0</td>\n",
       "      <td>0</td>\n",
       "      <td>...</td>\n",
       "      <td>3</td>\n",
       "      <td>0</td>\n",
       "      <td>0</td>\n",
       "      <td>0</td>\n",
       "      <td>0</td>\n",
       "      <td>1</td>\n",
       "      <td>0</td>\n",
       "      <td>0</td>\n",
       "      <td>0</td>\n",
       "      <td>0</td>\n",
       "    </tr>\n",
       "    <tr>\n",
       "      <th>4</th>\n",
       "      <td>3</td>\n",
       "      <td>0</td>\n",
       "      <td>0</td>\n",
       "      <td>0</td>\n",
       "      <td>0</td>\n",
       "      <td>0</td>\n",
       "      <td>0</td>\n",
       "      <td>0</td>\n",
       "      <td>0</td>\n",
       "      <td>0</td>\n",
       "      <td>...</td>\n",
       "      <td>0</td>\n",
       "      <td>0</td>\n",
       "      <td>0</td>\n",
       "      <td>0</td>\n",
       "      <td>0</td>\n",
       "      <td>0</td>\n",
       "      <td>0</td>\n",
       "      <td>0</td>\n",
       "      <td>0</td>\n",
       "      <td>0</td>\n",
       "    </tr>\n",
       "  </tbody>\n",
       "</table>\n",
       "<p>5 rows × 785 columns</p>\n",
       "</div>\n",
       "      <button class=\"colab-df-convert\" onclick=\"convertToInteractive('df-3bbf2c2d-6c00-434f-a03e-0483da596d66')\"\n",
       "              title=\"Convert this dataframe to an interactive table.\"\n",
       "              style=\"display:none;\">\n",
       "        \n",
       "  <svg xmlns=\"http://www.w3.org/2000/svg\" height=\"24px\"viewBox=\"0 0 24 24\"\n",
       "       width=\"24px\">\n",
       "    <path d=\"M0 0h24v24H0V0z\" fill=\"none\"/>\n",
       "    <path d=\"M18.56 5.44l.94 2.06.94-2.06 2.06-.94-2.06-.94-.94-2.06-.94 2.06-2.06.94zm-11 1L8.5 8.5l.94-2.06 2.06-.94-2.06-.94L8.5 2.5l-.94 2.06-2.06.94zm10 10l.94 2.06.94-2.06 2.06-.94-2.06-.94-.94-2.06-.94 2.06-2.06.94z\"/><path d=\"M17.41 7.96l-1.37-1.37c-.4-.4-.92-.59-1.43-.59-.52 0-1.04.2-1.43.59L10.3 9.45l-7.72 7.72c-.78.78-.78 2.05 0 2.83L4 21.41c.39.39.9.59 1.41.59.51 0 1.02-.2 1.41-.59l7.78-7.78 2.81-2.81c.8-.78.8-2.07 0-2.86zM5.41 20L4 18.59l7.72-7.72 1.47 1.35L5.41 20z\"/>\n",
       "  </svg>\n",
       "      </button>\n",
       "      \n",
       "  <style>\n",
       "    .colab-df-container {\n",
       "      display:flex;\n",
       "      flex-wrap:wrap;\n",
       "      gap: 12px;\n",
       "    }\n",
       "\n",
       "    .colab-df-convert {\n",
       "      background-color: #E8F0FE;\n",
       "      border: none;\n",
       "      border-radius: 50%;\n",
       "      cursor: pointer;\n",
       "      display: none;\n",
       "      fill: #1967D2;\n",
       "      height: 32px;\n",
       "      padding: 0 0 0 0;\n",
       "      width: 32px;\n",
       "    }\n",
       "\n",
       "    .colab-df-convert:hover {\n",
       "      background-color: #E2EBFA;\n",
       "      box-shadow: 0px 1px 2px rgba(60, 64, 67, 0.3), 0px 1px 3px 1px rgba(60, 64, 67, 0.15);\n",
       "      fill: #174EA6;\n",
       "    }\n",
       "\n",
       "    [theme=dark] .colab-df-convert {\n",
       "      background-color: #3B4455;\n",
       "      fill: #D2E3FC;\n",
       "    }\n",
       "\n",
       "    [theme=dark] .colab-df-convert:hover {\n",
       "      background-color: #434B5C;\n",
       "      box-shadow: 0px 1px 3px 1px rgba(0, 0, 0, 0.15);\n",
       "      filter: drop-shadow(0px 1px 2px rgba(0, 0, 0, 0.3));\n",
       "      fill: #FFFFFF;\n",
       "    }\n",
       "  </style>\n",
       "\n",
       "      <script>\n",
       "        const buttonEl =\n",
       "          document.querySelector('#df-3bbf2c2d-6c00-434f-a03e-0483da596d66 button.colab-df-convert');\n",
       "        buttonEl.style.display =\n",
       "          google.colab.kernel.accessAllowed ? 'block' : 'none';\n",
       "\n",
       "        async function convertToInteractive(key) {\n",
       "          const element = document.querySelector('#df-3bbf2c2d-6c00-434f-a03e-0483da596d66');\n",
       "          const dataTable =\n",
       "            await google.colab.kernel.invokeFunction('convertToInteractive',\n",
       "                                                     [key], {});\n",
       "          if (!dataTable) return;\n",
       "\n",
       "          const docLinkHtml = 'Like what you see? Visit the ' +\n",
       "            '<a target=\"_blank\" href=https://colab.research.google.com/notebooks/data_table.ipynb>data table notebook</a>'\n",
       "            + ' to learn more about interactive tables.';\n",
       "          element.innerHTML = '';\n",
       "          dataTable['output_type'] = 'display_data';\n",
       "          await google.colab.output.renderOutput(dataTable, element);\n",
       "          const docLink = document.createElement('div');\n",
       "          docLink.innerHTML = docLinkHtml;\n",
       "          element.appendChild(docLink);\n",
       "        }\n",
       "      </script>\n",
       "    </div>\n",
       "  </div>\n",
       "  "
      ],
      "text/plain": [
       "   label  pixel1  pixel2  pixel3  pixel4  pixel5  pixel6  pixel7  pixel8  \\\n",
       "0      2       0       0       0       0       0       0       0       0   \n",
       "1      9       0       0       0       0       0       0       0       0   \n",
       "2      6       0       0       0       0       0       0       0       5   \n",
       "3      0       0       0       0       1       2       0       0       0   \n",
       "4      3       0       0       0       0       0       0       0       0   \n",
       "\n",
       "   pixel9  ...  pixel775  pixel776  pixel777  pixel778  pixel779  pixel780  \\\n",
       "0       0  ...         0         0         0         0         0         0   \n",
       "1       0  ...         0         0         0         0         0         0   \n",
       "2       0  ...         0         0         0        30        43         0   \n",
       "3       0  ...         3         0         0         0         0         1   \n",
       "4       0  ...         0         0         0         0         0         0   \n",
       "\n",
       "   pixel781  pixel782  pixel783  pixel784  \n",
       "0         0         0         0         0  \n",
       "1         0         0         0         0  \n",
       "2         0         0         0         0  \n",
       "3         0         0         0         0  \n",
       "4         0         0         0         0  \n",
       "\n",
       "[5 rows x 785 columns]"
      ]
     },
     "execution_count": 6,
     "metadata": {},
     "output_type": "execute_result"
    }
   ],
   "source": [
    "fashion_train_df.head()"
   ]
  },
  {
   "cell_type": "code",
   "execution_count": null,
   "metadata": {
    "colab": {
     "base_uri": "https://localhost:8080/",
     "height": 300
    },
    "id": "KWVUF3NW5E5w",
    "outputId": "edc0dd7b-b2f5-4956-dd11-f442e8904f26"
   },
   "outputs": [
    {
     "data": {
      "text/html": [
       "\n",
       "  <div id=\"df-18b4109e-8267-4bf1-a42f-f84087280315\">\n",
       "    <div class=\"colab-df-container\">\n",
       "      <div>\n",
       "<style scoped>\n",
       "    .dataframe tbody tr th:only-of-type {\n",
       "        vertical-align: middle;\n",
       "    }\n",
       "\n",
       "    .dataframe tbody tr th {\n",
       "        vertical-align: top;\n",
       "    }\n",
       "\n",
       "    .dataframe thead th {\n",
       "        text-align: right;\n",
       "    }\n",
       "</style>\n",
       "<table border=\"1\" class=\"dataframe\">\n",
       "  <thead>\n",
       "    <tr style=\"text-align: right;\">\n",
       "      <th></th>\n",
       "      <th>label</th>\n",
       "      <th>pixel1</th>\n",
       "      <th>pixel2</th>\n",
       "      <th>pixel3</th>\n",
       "      <th>pixel4</th>\n",
       "      <th>pixel5</th>\n",
       "      <th>pixel6</th>\n",
       "      <th>pixel7</th>\n",
       "      <th>pixel8</th>\n",
       "      <th>pixel9</th>\n",
       "      <th>...</th>\n",
       "      <th>pixel775</th>\n",
       "      <th>pixel776</th>\n",
       "      <th>pixel777</th>\n",
       "      <th>pixel778</th>\n",
       "      <th>pixel779</th>\n",
       "      <th>pixel780</th>\n",
       "      <th>pixel781</th>\n",
       "      <th>pixel782</th>\n",
       "      <th>pixel783</th>\n",
       "      <th>pixel784</th>\n",
       "    </tr>\n",
       "  </thead>\n",
       "  <tbody>\n",
       "    <tr>\n",
       "      <th>59995</th>\n",
       "      <td>9</td>\n",
       "      <td>0</td>\n",
       "      <td>0</td>\n",
       "      <td>0</td>\n",
       "      <td>0</td>\n",
       "      <td>0</td>\n",
       "      <td>0</td>\n",
       "      <td>0</td>\n",
       "      <td>0</td>\n",
       "      <td>0</td>\n",
       "      <td>...</td>\n",
       "      <td>0</td>\n",
       "      <td>0</td>\n",
       "      <td>0</td>\n",
       "      <td>0</td>\n",
       "      <td>0</td>\n",
       "      <td>0</td>\n",
       "      <td>0</td>\n",
       "      <td>0</td>\n",
       "      <td>0</td>\n",
       "      <td>0</td>\n",
       "    </tr>\n",
       "    <tr>\n",
       "      <th>59996</th>\n",
       "      <td>1</td>\n",
       "      <td>0</td>\n",
       "      <td>0</td>\n",
       "      <td>0</td>\n",
       "      <td>0</td>\n",
       "      <td>0</td>\n",
       "      <td>0</td>\n",
       "      <td>0</td>\n",
       "      <td>0</td>\n",
       "      <td>0</td>\n",
       "      <td>...</td>\n",
       "      <td>73</td>\n",
       "      <td>0</td>\n",
       "      <td>0</td>\n",
       "      <td>0</td>\n",
       "      <td>0</td>\n",
       "      <td>0</td>\n",
       "      <td>0</td>\n",
       "      <td>0</td>\n",
       "      <td>0</td>\n",
       "      <td>0</td>\n",
       "    </tr>\n",
       "    <tr>\n",
       "      <th>59997</th>\n",
       "      <td>8</td>\n",
       "      <td>0</td>\n",
       "      <td>0</td>\n",
       "      <td>0</td>\n",
       "      <td>0</td>\n",
       "      <td>0</td>\n",
       "      <td>0</td>\n",
       "      <td>0</td>\n",
       "      <td>0</td>\n",
       "      <td>0</td>\n",
       "      <td>...</td>\n",
       "      <td>160</td>\n",
       "      <td>162</td>\n",
       "      <td>163</td>\n",
       "      <td>135</td>\n",
       "      <td>94</td>\n",
       "      <td>0</td>\n",
       "      <td>0</td>\n",
       "      <td>0</td>\n",
       "      <td>0</td>\n",
       "      <td>0</td>\n",
       "    </tr>\n",
       "    <tr>\n",
       "      <th>59998</th>\n",
       "      <td>8</td>\n",
       "      <td>0</td>\n",
       "      <td>0</td>\n",
       "      <td>0</td>\n",
       "      <td>0</td>\n",
       "      <td>0</td>\n",
       "      <td>0</td>\n",
       "      <td>0</td>\n",
       "      <td>0</td>\n",
       "      <td>0</td>\n",
       "      <td>...</td>\n",
       "      <td>0</td>\n",
       "      <td>0</td>\n",
       "      <td>0</td>\n",
       "      <td>0</td>\n",
       "      <td>0</td>\n",
       "      <td>0</td>\n",
       "      <td>0</td>\n",
       "      <td>0</td>\n",
       "      <td>0</td>\n",
       "      <td>0</td>\n",
       "    </tr>\n",
       "    <tr>\n",
       "      <th>59999</th>\n",
       "      <td>7</td>\n",
       "      <td>0</td>\n",
       "      <td>0</td>\n",
       "      <td>0</td>\n",
       "      <td>0</td>\n",
       "      <td>0</td>\n",
       "      <td>0</td>\n",
       "      <td>0</td>\n",
       "      <td>0</td>\n",
       "      <td>0</td>\n",
       "      <td>...</td>\n",
       "      <td>0</td>\n",
       "      <td>0</td>\n",
       "      <td>0</td>\n",
       "      <td>0</td>\n",
       "      <td>0</td>\n",
       "      <td>0</td>\n",
       "      <td>0</td>\n",
       "      <td>0</td>\n",
       "      <td>0</td>\n",
       "      <td>0</td>\n",
       "    </tr>\n",
       "  </tbody>\n",
       "</table>\n",
       "<p>5 rows × 785 columns</p>\n",
       "</div>\n",
       "      <button class=\"colab-df-convert\" onclick=\"convertToInteractive('df-18b4109e-8267-4bf1-a42f-f84087280315')\"\n",
       "              title=\"Convert this dataframe to an interactive table.\"\n",
       "              style=\"display:none;\">\n",
       "        \n",
       "  <svg xmlns=\"http://www.w3.org/2000/svg\" height=\"24px\"viewBox=\"0 0 24 24\"\n",
       "       width=\"24px\">\n",
       "    <path d=\"M0 0h24v24H0V0z\" fill=\"none\"/>\n",
       "    <path d=\"M18.56 5.44l.94 2.06.94-2.06 2.06-.94-2.06-.94-.94-2.06-.94 2.06-2.06.94zm-11 1L8.5 8.5l.94-2.06 2.06-.94-2.06-.94L8.5 2.5l-.94 2.06-2.06.94zm10 10l.94 2.06.94-2.06 2.06-.94-2.06-.94-.94-2.06-.94 2.06-2.06.94z\"/><path d=\"M17.41 7.96l-1.37-1.37c-.4-.4-.92-.59-1.43-.59-.52 0-1.04.2-1.43.59L10.3 9.45l-7.72 7.72c-.78.78-.78 2.05 0 2.83L4 21.41c.39.39.9.59 1.41.59.51 0 1.02-.2 1.41-.59l7.78-7.78 2.81-2.81c.8-.78.8-2.07 0-2.86zM5.41 20L4 18.59l7.72-7.72 1.47 1.35L5.41 20z\"/>\n",
       "  </svg>\n",
       "      </button>\n",
       "      \n",
       "  <style>\n",
       "    .colab-df-container {\n",
       "      display:flex;\n",
       "      flex-wrap:wrap;\n",
       "      gap: 12px;\n",
       "    }\n",
       "\n",
       "    .colab-df-convert {\n",
       "      background-color: #E8F0FE;\n",
       "      border: none;\n",
       "      border-radius: 50%;\n",
       "      cursor: pointer;\n",
       "      display: none;\n",
       "      fill: #1967D2;\n",
       "      height: 32px;\n",
       "      padding: 0 0 0 0;\n",
       "      width: 32px;\n",
       "    }\n",
       "\n",
       "    .colab-df-convert:hover {\n",
       "      background-color: #E2EBFA;\n",
       "      box-shadow: 0px 1px 2px rgba(60, 64, 67, 0.3), 0px 1px 3px 1px rgba(60, 64, 67, 0.15);\n",
       "      fill: #174EA6;\n",
       "    }\n",
       "\n",
       "    [theme=dark] .colab-df-convert {\n",
       "      background-color: #3B4455;\n",
       "      fill: #D2E3FC;\n",
       "    }\n",
       "\n",
       "    [theme=dark] .colab-df-convert:hover {\n",
       "      background-color: #434B5C;\n",
       "      box-shadow: 0px 1px 3px 1px rgba(0, 0, 0, 0.15);\n",
       "      filter: drop-shadow(0px 1px 2px rgba(0, 0, 0, 0.3));\n",
       "      fill: #FFFFFF;\n",
       "    }\n",
       "  </style>\n",
       "\n",
       "      <script>\n",
       "        const buttonEl =\n",
       "          document.querySelector('#df-18b4109e-8267-4bf1-a42f-f84087280315 button.colab-df-convert');\n",
       "        buttonEl.style.display =\n",
       "          google.colab.kernel.accessAllowed ? 'block' : 'none';\n",
       "\n",
       "        async function convertToInteractive(key) {\n",
       "          const element = document.querySelector('#df-18b4109e-8267-4bf1-a42f-f84087280315');\n",
       "          const dataTable =\n",
       "            await google.colab.kernel.invokeFunction('convertToInteractive',\n",
       "                                                     [key], {});\n",
       "          if (!dataTable) return;\n",
       "\n",
       "          const docLinkHtml = 'Like what you see? Visit the ' +\n",
       "            '<a target=\"_blank\" href=https://colab.research.google.com/notebooks/data_table.ipynb>data table notebook</a>'\n",
       "            + ' to learn more about interactive tables.';\n",
       "          element.innerHTML = '';\n",
       "          dataTable['output_type'] = 'display_data';\n",
       "          await google.colab.output.renderOutput(dataTable, element);\n",
       "          const docLink = document.createElement('div');\n",
       "          docLink.innerHTML = docLinkHtml;\n",
       "          element.appendChild(docLink);\n",
       "        }\n",
       "      </script>\n",
       "    </div>\n",
       "  </div>\n",
       "  "
      ],
      "text/plain": [
       "       label  pixel1  pixel2  pixel3  pixel4  pixel5  pixel6  pixel7  pixel8  \\\n",
       "59995      9       0       0       0       0       0       0       0       0   \n",
       "59996      1       0       0       0       0       0       0       0       0   \n",
       "59997      8       0       0       0       0       0       0       0       0   \n",
       "59998      8       0       0       0       0       0       0       0       0   \n",
       "59999      7       0       0       0       0       0       0       0       0   \n",
       "\n",
       "       pixel9  ...  pixel775  pixel776  pixel777  pixel778  pixel779  \\\n",
       "59995       0  ...         0         0         0         0         0   \n",
       "59996       0  ...        73         0         0         0         0   \n",
       "59997       0  ...       160       162       163       135        94   \n",
       "59998       0  ...         0         0         0         0         0   \n",
       "59999       0  ...         0         0         0         0         0   \n",
       "\n",
       "       pixel780  pixel781  pixel782  pixel783  pixel784  \n",
       "59995         0         0         0         0         0  \n",
       "59996         0         0         0         0         0  \n",
       "59997         0         0         0         0         0  \n",
       "59998         0         0         0         0         0  \n",
       "59999         0         0         0         0         0  \n",
       "\n",
       "[5 rows x 785 columns]"
      ]
     },
     "execution_count": 7,
     "metadata": {},
     "output_type": "execute_result"
    }
   ],
   "source": [
    "fashion_train_df.tail()"
   ]
  },
  {
   "cell_type": "code",
   "execution_count": null,
   "metadata": {
    "colab": {
     "base_uri": "https://localhost:8080/"
    },
    "id": "5Bd1uKEw5In4",
    "outputId": "bd0c2bf1-9a96-4b44-ec24-69f9fca2ad12"
   },
   "outputs": [
    {
     "data": {
      "text/plain": [
       "(60000, 785)"
      ]
     },
     "execution_count": 8,
     "metadata": {},
     "output_type": "execute_result"
    }
   ],
   "source": [
    "fashion_train_df.shape"
   ]
  },
  {
   "cell_type": "code",
   "execution_count": null,
   "metadata": {
    "colab": {
     "base_uri": "https://localhost:8080/"
    },
    "id": "1ImHKcZB5LgY",
    "outputId": "0770744d-dc2c-4f28-9ade-1f6e2d4a9178"
   },
   "outputs": [
    {
     "data": {
      "text/plain": [
       "(10000, 785)"
      ]
     },
     "execution_count": 9,
     "metadata": {},
     "output_type": "execute_result"
    }
   ],
   "source": [
    "fashion_test_df.shape"
   ]
  },
  {
   "cell_type": "code",
   "execution_count": null,
   "metadata": {
    "id": "8yzRp-K15PsQ"
   },
   "outputs": [],
   "source": [
    "training = np.array(fashion_train_df,dtype='float32')\n",
    "testing = np.array(fashion_test_df,dtype='float32')"
   ]
  },
  {
   "cell_type": "code",
   "execution_count": null,
   "metadata": {
    "colab": {
     "base_uri": "https://localhost:8080/"
    },
    "id": "Mj9EpBV25SNY",
    "outputId": "5f4b1dfd-2363-4850-b875-6ea6e32a7a3a"
   },
   "outputs": [
    {
     "data": {
      "text/plain": [
       "(60000, 785)"
      ]
     },
     "execution_count": 11,
     "metadata": {},
     "output_type": "execute_result"
    }
   ],
   "source": [
    "training.shape"
   ]
  },
  {
   "cell_type": "code",
   "execution_count": null,
   "metadata": {
    "id": "AutVqnL_5VCw"
   },
   "outputs": [],
   "source": [
    "import random"
   ]
  },
  {
   "cell_type": "code",
   "execution_count": null,
   "metadata": {
    "colab": {
     "base_uri": "https://localhost:8080/",
     "height": 282
    },
    "id": "QqE3ecVbMHOq",
    "outputId": "af0dd2e6-2f41-4229-e788-2b97dee7d0cd"
   },
   "outputs": [
    {
     "data": {
      "text/plain": [
       "0.0"
      ]
     },
     "execution_count": 31,
     "metadata": {},
     "output_type": "execute_result"
    },
    {
     "data": {
      "image/png": "[encoded data removed]",
      "text/plain": [
       "<Figure size 432x288 with 1 Axes>"
      ]
     },
     "metadata": {
      "needs_background": "light"
     },
     "output_type": "display_data"
    }
   ],
   "source": [
    "i = random.randint(0,60001) \n",
    "plt.imshow(training[i,1:].reshape(28,28)) \n",
    "label = training[i,1] \n",
    "label"
   ]
  },
  {
   "cell_type": "markdown",
   "metadata": {
    "id": "pohsjSwb5YkZ"
   },
   "source": [
    "**i** = random.randint(0,60001)\n",
    "plt.imshow(training[i,1:].reshape(28,28))\n",
    "label = training[i,1] \n",
    "label"
   ]
  },
  {
   "cell_type": "code",
   "execution_count": null,
   "metadata": {
    "colab": {
     "base_uri": "https://localhost:8080/",
     "height": 966
    },
    "id": "TVwvULA15gRA",
    "outputId": "080a4c5b-5855-4930-ed80-c1532bd40ea8"
   },
   "outputs": [
    {
     "data": {
      "image/png": "[encoded data removed]",
      "text/plain": [
       "<Figure size 1224x1224 with 49 Axes>"
      ]
     },
     "metadata": {
      "needs_background": "light"
     },
     "output_type": "display_data"
    }
   ],
   "source": [
    "W_grid = 7\n",
    "L_grid = 7\n",
    "\n",
    "fig,axes = plt.subplots(L_grid,W_grid,figsize =(17,17))\n",
    "\n",
    "axes = axes.ravel() \n",
    "n_training = len(training) \n",
    "\n",
    "\n",
    "\n",
    "for i in np.arange(0,W_grid*L_grid):\n",
    "        index = np.random.randint(0,n_training)\n",
    "        axes[i].imshow(training[index,1:].reshape((28,28)))\n",
    "        axes[i].set_title(training[index,0],fontsize = 8)\n",
    "        axes[i].axis('off')\n",
    "        \n",
    "plt.subplots_adjust(hspace=0.4)  "
   ]
  },
  {
   "cell_type": "code",
   "execution_count": null,
   "metadata": {
    "id": "C-0rO0Uu5keI"
   },
   "outputs": [],
   "source": [
    "X_train = training[:,1:]/255\n",
    "y_train = training[:,0]\n",
    "X_test = testing[:,1:]/255\n",
    "y_test = testing[:,0]"
   ]
  },
  {
   "cell_type": "code",
   "execution_count": null,
   "metadata": {
    "id": "J9cSUEiU5sKZ"
   },
   "outputs": [],
   "source": [
    "from sklearn.model_selection import train_test_split\n",
    "X_train, X_validate, y_train, y_validate = train_test_split(X_train, y_train,test_size = 0.2,random_state = 12345) "
   ]
  },
  {
   "cell_type": "code",
   "execution_count": null,
   "metadata": {
    "id": "bPQfPGZs5w1H"
   },
   "outputs": [],
   "source": [
    "X_train = X_train.reshape(X_train.shape[0],*(28,28,1))\n",
    "X_test = X_test.reshape(X_test.shape[0],*(28,28,1))\n",
    "X_validate = X_validate.reshape(X_validate.shape[0],*(28,28,1))"
   ]
  },
  {
   "cell_type": "code",
   "execution_count": null,
   "metadata": {
    "colab": {
     "base_uri": "https://localhost:8080/"
    },
    "id": "tozw48m551s5",
    "outputId": "6ff6ba33-e885-4825-9346-d5a4ffc42c32"
   },
   "outputs": [
    {
     "data": {
      "text/plain": [
       "(48000, 28, 28, 1)"
      ]
     },
     "execution_count": 37,
     "metadata": {},
     "output_type": "execute_result"
    }
   ],
   "source": [
    "X_train.shape\n"
   ]
  },
  {
   "cell_type": "code",
   "execution_count": null,
   "metadata": {
    "colab": {
     "base_uri": "https://localhost:8080/"
    },
    "id": "Gu-96aNG591o",
    "outputId": "79580ce7-7f0c-4044-c4bb-0aded3289908"
   },
   "outputs": [
    {
     "data": {
      "text/plain": [
       "(10000, 28, 28, 1)"
      ]
     },
     "execution_count": 38,
     "metadata": {},
     "output_type": "execute_result"
    }
   ],
   "source": [
    "X_test.shape"
   ]
  },
  {
   "cell_type": "code",
   "execution_count": null,
   "metadata": {
    "colab": {
     "base_uri": "https://localhost:8080/"
    },
    "id": "LDGYbFcm6ALB",
    "outputId": "da616432-f524-40a2-9a95-7407967c9481"
   },
   "outputs": [
    {
     "data": {
      "text/plain": [
       "(12000, 28, 28, 1)"
      ]
     },
     "execution_count": 39,
     "metadata": {},
     "output_type": "execute_result"
    }
   ],
   "source": [
    "X_validate.shape"
   ]
  },
  {
   "cell_type": "code",
   "execution_count": null,
   "metadata": {
    "id": "GCCnNuCj6DmA"
   },
   "outputs": [],
   "source": [
    "import tensorflow as tf\n",
    "from tensorflow import keras\n",
    "from tensorflow.keras.models import Sequential\n",
    "from tensorflow.keras.layers import Conv2D,MaxPooling2D,Dense,Flatten,Dropout\n",
    "from tensorflow.keras.optimizers import Adam\n",
    "from tensorflow.keras.callbacks import TensorBoard"
   ]
  },
  {
   "cell_type": "code",
   "execution_count": null,
   "metadata": {
    "id": "zHYu_wiP6IAp"
   },
   "outputs": [],
   "source": [
    "cnn_model = Sequential()\n",
    "cnn_model.add(Conv2D(32,3,3,input_shape = (28,28,1),activation = 'relu'))\n",
    "cnn_model.add(MaxPooling2D(pool_size= (2,2)))\n",
    "cnn_model.add(Flatten())\n",
    "cnn_model.add(Dense(32,activation = 'relu'))\n",
    "cnn_model.add(Dense(10,activation = 'sigmoid'))\n",
    "cnn_model.compile(loss ='sparse_categorical_crossentropy',optimizer = Adam(learning_rate=0.001),metrics= ['accuracy'])\n"
   ]
  },
  {
   "cell_type": "code",
   "execution_count": null,
   "metadata": {
    "id": "7GtLdxcj6g1B"
   },
   "outputs": [],
   "source": [
    "epochs = 200\n"
   ]
  },
  {
   "cell_type": "code",
   "execution_count": null,
   "metadata": {
    "colab": {
     "base_uri": "https://localhost:8080/"
    },
    "id": "kkc-K1QY6kLA",
    "outputId": "4c9cfda8-cd4a-41e0-e552-3e2dce3ac182"
   },
   "outputs": [
    {
     "name": "stdout",
     "output_type": "stream",
     "text": [
      "Epoch 1/200\n",
      "94/94 [==============================] - 3s 23ms/step - loss: 1.4013 - accuracy: 0.5608 - val_loss: 0.7930 - val_accuracy: 0.7260\n",
      "Epoch 2/200\n",
      "94/94 [==============================] - 2s 21ms/step - loss: 0.6888 - accuracy: 0.7555 - val_loss: 0.6148 - val_accuracy: 0.7827\n",
      "Epoch 3/200\n",
      "94/94 [==============================] - 2s 21ms/step - loss: 0.5766 - accuracy: 0.7950 - val_loss: 0.5493 - val_accuracy: 0.8041\n",
      "Epoch 4/200\n",
      "94/94 [==============================] - 2s 21ms/step - loss: 0.5242 - accuracy: 0.8117 - val_loss: 0.5121 - val_accuracy: 0.8207\n",
      "Epoch 5/200\n",
      "94/94 [==============================] - 2s 21ms/step - loss: 0.4940 - accuracy: 0.8219 - val_loss: 0.4920 - val_accuracy: 0.8216\n",
      "Epoch 6/200\n",
      "94/94 [==============================] - 2s 21ms/step - loss: 0.4723 - accuracy: 0.8293 - val_loss: 0.4667 - val_accuracy: 0.8342\n",
      "Epoch 7/200\n",
      "94/94 [==============================] - 2s 21ms/step - loss: 0.4569 - accuracy: 0.8347 - val_loss: 0.4614 - val_accuracy: 0.8346\n",
      "Epoch 8/200\n",
      "94/94 [==============================] - 3s 27ms/step - loss: 0.4445 - accuracy: 0.8393 - val_loss: 0.4560 - val_accuracy: 0.8328\n",
      "Epoch 9/200\n",
      "94/94 [==============================] - 2s 25ms/step - loss: 0.4329 - accuracy: 0.8436 - val_loss: 0.4367 - val_accuracy: 0.8437\n",
      "Epoch 10/200\n",
      "94/94 [==============================] - 2s 22ms/step - loss: 0.4251 - accuracy: 0.8470 - val_loss: 0.4346 - val_accuracy: 0.8421\n",
      "Epoch 11/200\n",
      "94/94 [==============================] - 2s 21ms/step - loss: 0.4176 - accuracy: 0.8495 - val_loss: 0.4310 - val_accuracy: 0.8436\n",
      "Epoch 12/200\n",
      "94/94 [==============================] - 2s 21ms/step - loss: 0.4122 - accuracy: 0.8517 - val_loss: 0.4207 - val_accuracy: 0.8484\n",
      "Epoch 13/200\n",
      "94/94 [==============================] - 2s 21ms/step - loss: 0.4058 - accuracy: 0.8537 - val_loss: 0.4161 - val_accuracy: 0.8519\n",
      "Epoch 14/200\n",
      "94/94 [==============================] - 2s 21ms/step - loss: 0.4013 - accuracy: 0.8550 - val_loss: 0.4102 - val_accuracy: 0.8534\n",
      "Epoch 15/200\n",
      "94/94 [==============================] - 2s 21ms/step - loss: 0.3957 - accuracy: 0.8569 - val_loss: 0.4095 - val_accuracy: 0.8497\n",
      "Epoch 16/200\n",
      "94/94 [==============================] - 2s 21ms/step - loss: 0.3926 - accuracy: 0.8581 - val_loss: 0.4121 - val_accuracy: 0.8512\n",
      "Epoch 17/200\n",
      "94/94 [==============================] - 2s 21ms/step - loss: 0.3889 - accuracy: 0.8600 - val_loss: 0.4029 - val_accuracy: 0.8534\n",
      "Epoch 18/200\n",
      "94/94 [==============================] - 2s 21ms/step - loss: 0.3840 - accuracy: 0.8623 - val_loss: 0.4020 - val_accuracy: 0.8522\n",
      "Epoch 19/200\n",
      "94/94 [==============================] - 2s 21ms/step - loss: 0.3829 - accuracy: 0.8619 - val_loss: 0.3955 - val_accuracy: 0.8583\n",
      "Epoch 20/200\n",
      "94/94 [==============================] - 2s 21ms/step - loss: 0.3790 - accuracy: 0.8641 - val_loss: 0.3933 - val_accuracy: 0.8577\n",
      "Epoch 21/200\n",
      "94/94 [==============================] - 2s 21ms/step - loss: 0.3782 - accuracy: 0.8642 - val_loss: 0.3930 - val_accuracy: 0.8577\n",
      "Epoch 22/200\n",
      "94/94 [==============================] - 2s 21ms/step - loss: 0.3729 - accuracy: 0.8654 - val_loss: 0.3904 - val_accuracy: 0.8610\n",
      "Epoch 23/200\n",
      "94/94 [==============================] - 2s 21ms/step - loss: 0.3702 - accuracy: 0.8665 - val_loss: 0.3963 - val_accuracy: 0.8546\n",
      "Epoch 24/200\n",
      "94/94 [==============================] - 3s 29ms/step - loss: 0.3700 - accuracy: 0.8673 - val_loss: 0.3856 - val_accuracy: 0.8608\n",
      "Epoch 25/200\n",
      "94/94 [==============================] - 2s 21ms/step - loss: 0.3653 - accuracy: 0.8691 - val_loss: 0.3860 - val_accuracy: 0.8595\n",
      "Epoch 26/200\n",
      "94/94 [==============================] - 2s 21ms/step - loss: 0.3632 - accuracy: 0.8691 - val_loss: 0.3836 - val_accuracy: 0.8591\n",
      "Epoch 27/200\n",
      "94/94 [==============================] - 2s 21ms/step - loss: 0.3610 - accuracy: 0.8701 - val_loss: 0.3900 - val_accuracy: 0.8584\n",
      "Epoch 28/200\n",
      "94/94 [==============================] - 2s 21ms/step - loss: 0.3608 - accuracy: 0.8701 - val_loss: 0.3792 - val_accuracy: 0.8605\n",
      "Epoch 29/200\n",
      "94/94 [==============================] - 2s 21ms/step - loss: 0.3595 - accuracy: 0.8693 - val_loss: 0.3887 - val_accuracy: 0.8567\n",
      "Epoch 30/200\n",
      "94/94 [==============================] - 2s 21ms/step - loss: 0.3560 - accuracy: 0.8709 - val_loss: 0.3780 - val_accuracy: 0.8615\n",
      "Epoch 31/200\n",
      "94/94 [==============================] - 2s 21ms/step - loss: 0.3540 - accuracy: 0.8708 - val_loss: 0.3765 - val_accuracy: 0.8609\n",
      "Epoch 32/200\n",
      "94/94 [==============================] - 2s 21ms/step - loss: 0.3533 - accuracy: 0.8717 - val_loss: 0.3741 - val_accuracy: 0.8633\n",
      "Epoch 33/200\n",
      "94/94 [==============================] - 2s 21ms/step - loss: 0.3507 - accuracy: 0.8723 - val_loss: 0.3717 - val_accuracy: 0.8634\n",
      "Epoch 34/200\n",
      "94/94 [==============================] - 2s 21ms/step - loss: 0.3493 - accuracy: 0.8738 - val_loss: 0.3804 - val_accuracy: 0.8593\n",
      "Epoch 35/200\n",
      "94/94 [==============================] - 2s 21ms/step - loss: 0.3472 - accuracy: 0.8740 - val_loss: 0.3703 - val_accuracy: 0.8668\n",
      "Epoch 36/200\n",
      "94/94 [==============================] - 2s 21ms/step - loss: 0.3443 - accuracy: 0.8746 - val_loss: 0.3741 - val_accuracy: 0.8632\n",
      "Epoch 37/200\n",
      "94/94 [==============================] - 2s 21ms/step - loss: 0.3450 - accuracy: 0.8751 - val_loss: 0.3694 - val_accuracy: 0.8670\n",
      "Epoch 38/200\n",
      "94/94 [==============================] - 2s 21ms/step - loss: 0.3435 - accuracy: 0.8748 - val_loss: 0.3680 - val_accuracy: 0.8665\n",
      "Epoch 39/200\n",
      "94/94 [==============================] - 2s 21ms/step - loss: 0.3391 - accuracy: 0.8771 - val_loss: 0.3672 - val_accuracy: 0.8665\n",
      "Epoch 40/200\n",
      "94/94 [==============================] - 2s 21ms/step - loss: 0.3388 - accuracy: 0.8771 - val_loss: 0.3636 - val_accuracy: 0.8666\n",
      "Epoch 41/200\n",
      "94/94 [==============================] - 2s 21ms/step - loss: 0.3374 - accuracy: 0.8771 - val_loss: 0.3709 - val_accuracy: 0.8675\n",
      "Epoch 42/200\n",
      "94/94 [==============================] - 2s 21ms/step - loss: 0.3358 - accuracy: 0.8776 - val_loss: 0.3678 - val_accuracy: 0.8657\n",
      "Epoch 43/200\n",
      "94/94 [==============================] - 2s 21ms/step - loss: 0.3344 - accuracy: 0.8785 - val_loss: 0.3660 - val_accuracy: 0.8673\n",
      "Epoch 44/200\n",
      "94/94 [==============================] - 2s 22ms/step - loss: 0.3329 - accuracy: 0.8789 - val_loss: 0.3622 - val_accuracy: 0.8678\n",
      "Epoch 45/200\n",
      "94/94 [==============================] - 2s 21ms/step - loss: 0.3328 - accuracy: 0.8786 - val_loss: 0.3612 - val_accuracy: 0.8698\n",
      "Epoch 46/200\n",
      "94/94 [==============================] - 2s 22ms/step - loss: 0.3300 - accuracy: 0.8795 - val_loss: 0.3664 - val_accuracy: 0.8627\n",
      "Epoch 47/200\n",
      "94/94 [==============================] - 2s 21ms/step - loss: 0.3302 - accuracy: 0.8801 - val_loss: 0.3615 - val_accuracy: 0.8691\n",
      "Epoch 48/200\n",
      "94/94 [==============================] - 2s 21ms/step - loss: 0.3297 - accuracy: 0.8787 - val_loss: 0.3586 - val_accuracy: 0.8672\n",
      "Epoch 49/200\n",
      "94/94 [==============================] - 2s 22ms/step - loss: 0.3269 - accuracy: 0.8799 - val_loss: 0.3596 - val_accuracy: 0.8685\n",
      "Epoch 50/200\n",
      "94/94 [==============================] - 2s 22ms/step - loss: 0.3239 - accuracy: 0.8813 - val_loss: 0.3577 - val_accuracy: 0.8673\n",
      "Epoch 51/200\n",
      "94/94 [==============================] - 2s 21ms/step - loss: 0.3237 - accuracy: 0.8823 - val_loss: 0.3574 - val_accuracy: 0.8693\n",
      "Epoch 52/200\n",
      "94/94 [==============================] - 2s 21ms/step - loss: 0.3224 - accuracy: 0.8830 - val_loss: 0.3540 - val_accuracy: 0.8727\n",
      "Epoch 53/200\n",
      "94/94 [==============================] - 2s 21ms/step - loss: 0.3199 - accuracy: 0.8832 - val_loss: 0.3656 - val_accuracy: 0.8669\n",
      "Epoch 54/200\n",
      "94/94 [==============================] - 2s 22ms/step - loss: 0.3214 - accuracy: 0.8819 - val_loss: 0.3587 - val_accuracy: 0.8716\n",
      "Epoch 55/200\n",
      "94/94 [==============================] - 2s 22ms/step - loss: 0.3191 - accuracy: 0.8831 - val_loss: 0.3542 - val_accuracy: 0.8723\n",
      "Epoch 56/200\n",
      "94/94 [==============================] - 2s 22ms/step - loss: 0.3169 - accuracy: 0.8836 - val_loss: 0.3585 - val_accuracy: 0.8669\n",
      "Epoch 57/200\n",
      "94/94 [==============================] - 2s 22ms/step - loss: 0.3186 - accuracy: 0.8831 - val_loss: 0.3559 - val_accuracy: 0.8689\n",
      "Epoch 58/200\n",
      "94/94 [==============================] - 2s 21ms/step - loss: 0.3155 - accuracy: 0.8852 - val_loss: 0.3541 - val_accuracy: 0.8711\n",
      "Epoch 59/200\n",
      "94/94 [==============================] - 2s 22ms/step - loss: 0.3135 - accuracy: 0.8849 - val_loss: 0.3511 - val_accuracy: 0.8708\n",
      "Epoch 60/200\n",
      "94/94 [==============================] - 2s 22ms/step - loss: 0.3141 - accuracy: 0.8843 - val_loss: 0.3510 - val_accuracy: 0.8710\n",
      "Epoch 61/200\n",
      "94/94 [==============================] - 2s 21ms/step - loss: 0.3132 - accuracy: 0.8852 - val_loss: 0.3523 - val_accuracy: 0.8709\n",
      "Epoch 62/200\n",
      "94/94 [==============================] - 2s 22ms/step - loss: 0.3126 - accuracy: 0.8841 - val_loss: 0.3547 - val_accuracy: 0.8715\n",
      "Epoch 63/200\n",
      "94/94 [==============================] - 2s 22ms/step - loss: 0.3121 - accuracy: 0.8859 - val_loss: 0.3504 - val_accuracy: 0.8722\n",
      "Epoch 64/200\n",
      "94/94 [==============================] - 2s 22ms/step - loss: 0.3105 - accuracy: 0.8867 - val_loss: 0.3637 - val_accuracy: 0.8637\n",
      "Epoch 65/200\n",
      "94/94 [==============================] - 2s 22ms/step - loss: 0.3090 - accuracy: 0.8860 - val_loss: 0.3548 - val_accuracy: 0.8670\n",
      "Epoch 66/200\n",
      "94/94 [==============================] - 2s 21ms/step - loss: 0.3072 - accuracy: 0.8871 - val_loss: 0.3509 - val_accuracy: 0.8702\n",
      "Epoch 67/200\n",
      "94/94 [==============================] - 2s 21ms/step - loss: 0.3068 - accuracy: 0.8878 - val_loss: 0.3474 - val_accuracy: 0.8728\n",
      "Epoch 68/200\n",
      "94/94 [==============================] - 2s 21ms/step - loss: 0.3052 - accuracy: 0.8879 - val_loss: 0.3514 - val_accuracy: 0.8725\n",
      "Epoch 69/200\n",
      "94/94 [==============================] - 2s 21ms/step - loss: 0.3044 - accuracy: 0.8884 - val_loss: 0.3476 - val_accuracy: 0.8743\n",
      "Epoch 70/200\n",
      "94/94 [==============================] - 2s 22ms/step - loss: 0.3033 - accuracy: 0.8889 - val_loss: 0.3470 - val_accuracy: 0.8736\n",
      "Epoch 71/200\n",
      "94/94 [==============================] - 2s 21ms/step - loss: 0.3034 - accuracy: 0.8883 - val_loss: 0.3469 - val_accuracy: 0.8721\n",
      "Epoch 72/200\n",
      "94/94 [==============================] - 2s 21ms/step - loss: 0.3029 - accuracy: 0.8884 - val_loss: 0.3620 - val_accuracy: 0.8663\n",
      "Epoch 73/200\n",
      "94/94 [==============================] - 2s 21ms/step - loss: 0.3029 - accuracy: 0.8882 - val_loss: 0.3476 - val_accuracy: 0.8727\n",
      "Epoch 74/200\n",
      "94/94 [==============================] - 2s 22ms/step - loss: 0.2999 - accuracy: 0.8900 - val_loss: 0.3459 - val_accuracy: 0.8737\n",
      "Epoch 75/200\n",
      "94/94 [==============================] - 2s 22ms/step - loss: 0.2974 - accuracy: 0.8904 - val_loss: 0.3468 - val_accuracy: 0.8711\n",
      "Epoch 76/200\n",
      "94/94 [==============================] - 2s 21ms/step - loss: 0.2985 - accuracy: 0.8902 - val_loss: 0.3472 - val_accuracy: 0.8726\n",
      "Epoch 77/200\n",
      "94/94 [==============================] - 2s 22ms/step - loss: 0.3003 - accuracy: 0.8901 - val_loss: 0.3446 - val_accuracy: 0.8744\n",
      "Epoch 78/200\n",
      "94/94 [==============================] - 2s 22ms/step - loss: 0.2963 - accuracy: 0.8909 - val_loss: 0.3415 - val_accuracy: 0.8742\n",
      "Epoch 79/200\n",
      "94/94 [==============================] - 2s 21ms/step - loss: 0.2945 - accuracy: 0.8914 - val_loss: 0.3479 - val_accuracy: 0.8706\n",
      "Epoch 80/200\n",
      "94/94 [==============================] - 2s 21ms/step - loss: 0.2939 - accuracy: 0.8925 - val_loss: 0.3423 - val_accuracy: 0.8758\n",
      "Epoch 81/200\n",
      "94/94 [==============================] - 2s 21ms/step - loss: 0.2926 - accuracy: 0.8929 - val_loss: 0.3447 - val_accuracy: 0.8729\n",
      "Epoch 82/200\n",
      "94/94 [==============================] - 2s 22ms/step - loss: 0.2927 - accuracy: 0.8918 - val_loss: 0.3449 - val_accuracy: 0.8750\n",
      "Epoch 83/200\n",
      "94/94 [==============================] - 4s 38ms/step - loss: 0.2894 - accuracy: 0.8939 - val_loss: 0.3443 - val_accuracy: 0.8750\n",
      "Epoch 84/200\n",
      "94/94 [==============================] - 3s 34ms/step - loss: 0.2925 - accuracy: 0.8914 - val_loss: 0.3432 - val_accuracy: 0.8742\n",
      "Epoch 85/200\n",
      "94/94 [==============================] - 2s 21ms/step - loss: 0.2902 - accuracy: 0.8935 - val_loss: 0.3442 - val_accuracy: 0.8730\n",
      "Epoch 86/200\n",
      "94/94 [==============================] - 2s 22ms/step - loss: 0.2882 - accuracy: 0.8936 - val_loss: 0.3402 - val_accuracy: 0.8772\n",
      "Epoch 87/200\n",
      "94/94 [==============================] - 2s 21ms/step - loss: 0.2878 - accuracy: 0.8940 - val_loss: 0.3434 - val_accuracy: 0.8748\n",
      "Epoch 88/200\n",
      "94/94 [==============================] - 2s 21ms/step - loss: 0.2864 - accuracy: 0.8952 - val_loss: 0.3417 - val_accuracy: 0.8748\n",
      "Epoch 89/200\n",
      "94/94 [==============================] - 2s 22ms/step - loss: 0.2862 - accuracy: 0.8945 - val_loss: 0.3590 - val_accuracy: 0.8673\n",
      "Epoch 90/200\n",
      "94/94 [==============================] - 2s 22ms/step - loss: 0.2859 - accuracy: 0.8945 - val_loss: 0.3428 - val_accuracy: 0.8736\n",
      "Epoch 91/200\n",
      "94/94 [==============================] - 2s 22ms/step - loss: 0.2863 - accuracy: 0.8954 - val_loss: 0.3396 - val_accuracy: 0.8757\n",
      "Epoch 92/200\n",
      "94/94 [==============================] - 2s 21ms/step - loss: 0.2841 - accuracy: 0.8963 - val_loss: 0.3392 - val_accuracy: 0.8751\n",
      "Epoch 93/200\n",
      "94/94 [==============================] - 2s 21ms/step - loss: 0.2834 - accuracy: 0.8957 - val_loss: 0.3400 - val_accuracy: 0.8761\n",
      "Epoch 94/200\n",
      "94/94 [==============================] - 2s 21ms/step - loss: 0.2824 - accuracy: 0.8956 - val_loss: 0.3394 - val_accuracy: 0.8760\n",
      "Epoch 95/200\n",
      "94/94 [==============================] - 2s 24ms/step - loss: 0.2819 - accuracy: 0.8960 - val_loss: 0.3388 - val_accuracy: 0.8776\n",
      "Epoch 96/200\n",
      "94/94 [==============================] - 3s 27ms/step - loss: 0.2819 - accuracy: 0.8956 - val_loss: 0.3392 - val_accuracy: 0.8774\n",
      "Epoch 97/200\n",
      "94/94 [==============================] - 3s 28ms/step - loss: 0.2828 - accuracy: 0.8961 - val_loss: 0.3392 - val_accuracy: 0.8755\n",
      "Epoch 98/200\n",
      "94/94 [==============================] - 2s 22ms/step - loss: 0.2783 - accuracy: 0.8981 - val_loss: 0.3412 - val_accuracy: 0.8743\n",
      "Epoch 99/200\n",
      "94/94 [==============================] - 2s 22ms/step - loss: 0.2801 - accuracy: 0.8974 - val_loss: 0.3401 - val_accuracy: 0.8779\n",
      "Epoch 100/200\n",
      "94/94 [==============================] - 2s 22ms/step - loss: 0.2769 - accuracy: 0.8974 - val_loss: 0.3383 - val_accuracy: 0.8777\n",
      "Epoch 101/200\n",
      "94/94 [==============================] - 2s 22ms/step - loss: 0.2771 - accuracy: 0.8982 - val_loss: 0.3491 - val_accuracy: 0.8705\n",
      "Epoch 102/200\n",
      "94/94 [==============================] - 2s 22ms/step - loss: 0.2761 - accuracy: 0.8979 - val_loss: 0.3372 - val_accuracy: 0.8774\n",
      "Epoch 103/200\n",
      "94/94 [==============================] - 2s 22ms/step - loss: 0.2776 - accuracy: 0.8971 - val_loss: 0.3395 - val_accuracy: 0.8773\n",
      "Epoch 104/200\n",
      "94/94 [==============================] - 2s 22ms/step - loss: 0.2729 - accuracy: 0.9004 - val_loss: 0.3422 - val_accuracy: 0.8767\n",
      "Epoch 105/200\n",
      "94/94 [==============================] - 2s 22ms/step - loss: 0.2753 - accuracy: 0.8989 - val_loss: 0.3439 - val_accuracy: 0.8741\n",
      "Epoch 106/200\n",
      "94/94 [==============================] - 2s 23ms/step - loss: 0.2736 - accuracy: 0.8995 - val_loss: 0.3399 - val_accuracy: 0.8748\n",
      "Epoch 107/200\n",
      "94/94 [==============================] - 2s 22ms/step - loss: 0.2727 - accuracy: 0.9001 - val_loss: 0.3393 - val_accuracy: 0.8768\n",
      "Epoch 108/200\n",
      "94/94 [==============================] - 2s 22ms/step - loss: 0.2731 - accuracy: 0.8995 - val_loss: 0.3403 - val_accuracy: 0.8782\n",
      "Epoch 109/200\n",
      "94/94 [==============================] - 2s 22ms/step - loss: 0.2718 - accuracy: 0.9005 - val_loss: 0.3415 - val_accuracy: 0.8749\n",
      "Epoch 110/200\n",
      "94/94 [==============================] - 2s 23ms/step - loss: 0.2700 - accuracy: 0.9007 - val_loss: 0.3393 - val_accuracy: 0.8763\n",
      "Epoch 111/200\n",
      "94/94 [==============================] - 2s 22ms/step - loss: 0.2699 - accuracy: 0.9011 - val_loss: 0.3405 - val_accuracy: 0.8750\n",
      "Epoch 112/200\n",
      "94/94 [==============================] - 2s 22ms/step - loss: 0.2698 - accuracy: 0.8997 - val_loss: 0.3397 - val_accuracy: 0.8764\n",
      "Epoch 113/200\n",
      "94/94 [==============================] - 2s 22ms/step - loss: 0.2673 - accuracy: 0.9018 - val_loss: 0.3413 - val_accuracy: 0.8749\n",
      "Epoch 114/200\n",
      "94/94 [==============================] - 2s 22ms/step - loss: 0.2685 - accuracy: 0.9009 - val_loss: 0.3491 - val_accuracy: 0.8724\n",
      "Epoch 115/200\n",
      "94/94 [==============================] - 2s 22ms/step - loss: 0.2659 - accuracy: 0.9022 - val_loss: 0.3403 - val_accuracy: 0.8775\n",
      "Epoch 116/200\n",
      "94/94 [==============================] - 2s 22ms/step - loss: 0.2644 - accuracy: 0.9030 - val_loss: 0.3418 - val_accuracy: 0.8758\n",
      "Epoch 117/200\n",
      "94/94 [==============================] - 2s 22ms/step - loss: 0.2651 - accuracy: 0.9025 - val_loss: 0.3605 - val_accuracy: 0.8677\n",
      "Epoch 118/200\n",
      "94/94 [==============================] - 2s 22ms/step - loss: 0.2665 - accuracy: 0.9020 - val_loss: 0.3435 - val_accuracy: 0.8769\n",
      "Epoch 119/200\n",
      "94/94 [==============================] - 2s 23ms/step - loss: 0.2653 - accuracy: 0.9036 - val_loss: 0.3373 - val_accuracy: 0.8783\n",
      "Epoch 120/200\n",
      "94/94 [==============================] - 2s 22ms/step - loss: 0.2671 - accuracy: 0.9012 - val_loss: 0.3496 - val_accuracy: 0.8739\n",
      "Epoch 121/200\n",
      "94/94 [==============================] - 2s 23ms/step - loss: 0.2640 - accuracy: 0.9025 - val_loss: 0.3399 - val_accuracy: 0.8766\n",
      "Epoch 122/200\n",
      "94/94 [==============================] - 2s 22ms/step - loss: 0.2627 - accuracy: 0.9036 - val_loss: 0.3388 - val_accuracy: 0.8780\n",
      "Epoch 123/200\n",
      "94/94 [==============================] - 2s 22ms/step - loss: 0.2619 - accuracy: 0.9050 - val_loss: 0.3419 - val_accuracy: 0.8766\n",
      "Epoch 124/200\n",
      "94/94 [==============================] - 2s 22ms/step - loss: 0.2606 - accuracy: 0.9038 - val_loss: 0.3413 - val_accuracy: 0.8770\n",
      "Epoch 125/200\n",
      "94/94 [==============================] - 2s 22ms/step - loss: 0.2597 - accuracy: 0.9052 - val_loss: 0.3440 - val_accuracy: 0.8761\n",
      "Epoch 126/200\n",
      "94/94 [==============================] - 2s 22ms/step - loss: 0.2591 - accuracy: 0.9045 - val_loss: 0.3405 - val_accuracy: 0.8784\n",
      "Epoch 127/200\n",
      "94/94 [==============================] - 2s 22ms/step - loss: 0.2578 - accuracy: 0.9053 - val_loss: 0.3430 - val_accuracy: 0.8755\n",
      "Epoch 128/200\n",
      "94/94 [==============================] - 2s 22ms/step - loss: 0.2569 - accuracy: 0.9067 - val_loss: 0.3486 - val_accuracy: 0.8728\n",
      "Epoch 129/200\n",
      "94/94 [==============================] - 2s 22ms/step - loss: 0.2573 - accuracy: 0.9056 - val_loss: 0.3433 - val_accuracy: 0.8773\n",
      "Epoch 130/200\n",
      "94/94 [==============================] - 2s 22ms/step - loss: 0.2576 - accuracy: 0.9054 - val_loss: 0.3416 - val_accuracy: 0.8764\n",
      "Epoch 131/200\n",
      "94/94 [==============================] - 2s 22ms/step - loss: 0.2573 - accuracy: 0.9065 - val_loss: 0.3370 - val_accuracy: 0.8792\n",
      "Epoch 132/200\n",
      "94/94 [==============================] - 2s 22ms/step - loss: 0.2549 - accuracy: 0.9066 - val_loss: 0.3420 - val_accuracy: 0.8767\n",
      "Epoch 133/200\n",
      "94/94 [==============================] - 2s 22ms/step - loss: 0.2561 - accuracy: 0.9067 - val_loss: 0.3585 - val_accuracy: 0.8715\n",
      "Epoch 134/200\n",
      "94/94 [==============================] - 2s 22ms/step - loss: 0.2543 - accuracy: 0.9065 - val_loss: 0.3460 - val_accuracy: 0.8753\n",
      "Epoch 135/200\n",
      "94/94 [==============================] - 2s 22ms/step - loss: 0.2551 - accuracy: 0.9068 - val_loss: 0.3450 - val_accuracy: 0.8771\n",
      "Epoch 136/200\n",
      "94/94 [==============================] - 2s 22ms/step - loss: 0.2523 - accuracy: 0.9079 - val_loss: 0.3482 - val_accuracy: 0.8732\n",
      "Epoch 137/200\n",
      "94/94 [==============================] - 2s 22ms/step - loss: 0.2523 - accuracy: 0.9071 - val_loss: 0.3420 - val_accuracy: 0.8767\n",
      "Epoch 138/200\n",
      "94/94 [==============================] - 2s 22ms/step - loss: 0.2513 - accuracy: 0.9081 - val_loss: 0.3491 - val_accuracy: 0.8757\n",
      "Epoch 139/200\n",
      "94/94 [==============================] - 2s 22ms/step - loss: 0.2533 - accuracy: 0.9076 - val_loss: 0.3390 - val_accuracy: 0.8795\n",
      "Epoch 140/200\n",
      "94/94 [==============================] - 2s 22ms/step - loss: 0.2493 - accuracy: 0.9097 - val_loss: 0.3414 - val_accuracy: 0.8808\n",
      "Epoch 141/200\n",
      "94/94 [==============================] - 2s 22ms/step - loss: 0.2521 - accuracy: 0.9075 - val_loss: 0.3411 - val_accuracy: 0.8802\n",
      "Epoch 142/200\n",
      "94/94 [==============================] - 2s 22ms/step - loss: 0.2505 - accuracy: 0.9087 - val_loss: 0.3458 - val_accuracy: 0.8783\n",
      "Epoch 143/200\n",
      "94/94 [==============================] - 2s 22ms/step - loss: 0.2482 - accuracy: 0.9091 - val_loss: 0.3413 - val_accuracy: 0.8773\n",
      "Epoch 144/200\n",
      "94/94 [==============================] - 2s 22ms/step - loss: 0.2493 - accuracy: 0.9090 - val_loss: 0.3509 - val_accuracy: 0.8749\n",
      "Epoch 145/200\n",
      "94/94 [==============================] - 2s 22ms/step - loss: 0.2514 - accuracy: 0.9066 - val_loss: 0.3463 - val_accuracy: 0.8791\n",
      "Epoch 146/200\n",
      "94/94 [==============================] - 2s 22ms/step - loss: 0.2486 - accuracy: 0.9089 - val_loss: 0.3408 - val_accuracy: 0.8793\n",
      "Epoch 147/200\n",
      "94/94 [==============================] - 2s 22ms/step - loss: 0.2463 - accuracy: 0.9099 - val_loss: 0.3399 - val_accuracy: 0.8788\n",
      "Epoch 148/200\n",
      "94/94 [==============================] - 2s 22ms/step - loss: 0.2466 - accuracy: 0.9105 - val_loss: 0.3423 - val_accuracy: 0.8783\n",
      "Epoch 149/200\n",
      "94/94 [==============================] - 2s 22ms/step - loss: 0.2458 - accuracy: 0.9102 - val_loss: 0.3432 - val_accuracy: 0.8793\n",
      "Epoch 150/200\n",
      "94/94 [==============================] - 2s 22ms/step - loss: 0.2436 - accuracy: 0.9111 - val_loss: 0.3492 - val_accuracy: 0.8756\n",
      "Epoch 151/200\n",
      "94/94 [==============================] - 2s 22ms/step - loss: 0.2448 - accuracy: 0.9113 - val_loss: 0.3442 - val_accuracy: 0.8784\n",
      "Epoch 152/200\n",
      "94/94 [==============================] - 2s 22ms/step - loss: 0.2438 - accuracy: 0.9108 - val_loss: 0.3443 - val_accuracy: 0.8789\n",
      "Epoch 153/200\n",
      "94/94 [==============================] - 2s 22ms/step - loss: 0.2450 - accuracy: 0.9104 - val_loss: 0.3511 - val_accuracy: 0.8732\n",
      "Epoch 154/200\n",
      "94/94 [==============================] - 2s 22ms/step - loss: 0.2444 - accuracy: 0.9106 - val_loss: 0.3419 - val_accuracy: 0.8785\n",
      "Epoch 155/200\n",
      "94/94 [==============================] - 2s 22ms/step - loss: 0.2427 - accuracy: 0.9116 - val_loss: 0.3521 - val_accuracy: 0.8746\n",
      "Epoch 156/200\n",
      "94/94 [==============================] - 2s 22ms/step - loss: 0.2415 - accuracy: 0.9133 - val_loss: 0.3462 - val_accuracy: 0.8783\n",
      "Epoch 157/200\n",
      "94/94 [==============================] - 2s 22ms/step - loss: 0.2403 - accuracy: 0.9114 - val_loss: 0.3442 - val_accuracy: 0.8782\n",
      "Epoch 158/200\n",
      "94/94 [==============================] - 2s 23ms/step - loss: 0.2413 - accuracy: 0.9119 - val_loss: 0.3506 - val_accuracy: 0.8755\n",
      "Epoch 159/200\n",
      "94/94 [==============================] - 2s 22ms/step - loss: 0.2397 - accuracy: 0.9128 - val_loss: 0.3434 - val_accuracy: 0.8792\n",
      "Epoch 160/200\n",
      "94/94 [==============================] - 2s 22ms/step - loss: 0.2386 - accuracy: 0.9136 - val_loss: 0.3497 - val_accuracy: 0.8759\n",
      "Epoch 161/200\n",
      "94/94 [==============================] - 2s 22ms/step - loss: 0.2395 - accuracy: 0.9128 - val_loss: 0.3468 - val_accuracy: 0.8775\n",
      "Epoch 162/200\n",
      "94/94 [==============================] - 2s 22ms/step - loss: 0.2382 - accuracy: 0.9137 - val_loss: 0.3432 - val_accuracy: 0.8781\n",
      "Epoch 163/200\n",
      "94/94 [==============================] - 2s 22ms/step - loss: 0.2374 - accuracy: 0.9134 - val_loss: 0.3479 - val_accuracy: 0.8776\n",
      "Epoch 164/200\n",
      "94/94 [==============================] - 2s 22ms/step - loss: 0.2399 - accuracy: 0.9123 - val_loss: 0.3436 - val_accuracy: 0.8802\n",
      "Epoch 165/200\n",
      "94/94 [==============================] - 2s 22ms/step - loss: 0.2348 - accuracy: 0.9150 - val_loss: 0.3529 - val_accuracy: 0.8767\n",
      "Epoch 166/200\n",
      "94/94 [==============================] - 2s 22ms/step - loss: 0.2370 - accuracy: 0.9143 - val_loss: 0.3643 - val_accuracy: 0.8710\n",
      "Epoch 167/200\n",
      "94/94 [==============================] - 2s 22ms/step - loss: 0.2364 - accuracy: 0.9139 - val_loss: 0.3509 - val_accuracy: 0.8763\n",
      "Epoch 168/200\n",
      "94/94 [==============================] - 2s 22ms/step - loss: 0.2356 - accuracy: 0.9137 - val_loss: 0.3488 - val_accuracy: 0.8755\n",
      "Epoch 169/200\n",
      "94/94 [==============================] - 2s 22ms/step - loss: 0.2374 - accuracy: 0.9138 - val_loss: 0.3483 - val_accuracy: 0.8788\n",
      "Epoch 170/200\n",
      "94/94 [==============================] - 2s 22ms/step - loss: 0.2351 - accuracy: 0.9139 - val_loss: 0.3499 - val_accuracy: 0.8768\n",
      "Epoch 171/200\n",
      "94/94 [==============================] - 2s 22ms/step - loss: 0.2351 - accuracy: 0.9153 - val_loss: 0.3584 - val_accuracy: 0.8759\n",
      "Epoch 172/200\n",
      "94/94 [==============================] - 2s 22ms/step - loss: 0.2343 - accuracy: 0.9151 - val_loss: 0.3470 - val_accuracy: 0.8785\n",
      "Epoch 173/200\n",
      "94/94 [==============================] - 2s 22ms/step - loss: 0.2324 - accuracy: 0.9167 - val_loss: 0.3491 - val_accuracy: 0.8777\n",
      "Epoch 174/200\n",
      "94/94 [==============================] - 2s 22ms/step - loss: 0.2337 - accuracy: 0.9145 - val_loss: 0.3546 - val_accuracy: 0.8759\n",
      "Epoch 175/200\n",
      "94/94 [==============================] - 2s 22ms/step - loss: 0.2356 - accuracy: 0.9130 - val_loss: 0.3644 - val_accuracy: 0.8729\n",
      "Epoch 176/200\n",
      "94/94 [==============================] - 2s 22ms/step - loss: 0.2336 - accuracy: 0.9150 - val_loss: 0.3491 - val_accuracy: 0.8792\n",
      "Epoch 177/200\n",
      "94/94 [==============================] - 2s 22ms/step - loss: 0.2311 - accuracy: 0.9154 - val_loss: 0.3537 - val_accuracy: 0.8761\n",
      "Epoch 178/200\n",
      "94/94 [==============================] - 2s 22ms/step - loss: 0.2310 - accuracy: 0.9169 - val_loss: 0.3502 - val_accuracy: 0.8781\n",
      "Epoch 179/200\n",
      "94/94 [==============================] - 2s 22ms/step - loss: 0.2300 - accuracy: 0.9160 - val_loss: 0.3514 - val_accuracy: 0.8772\n",
      "Epoch 180/200\n",
      "94/94 [==============================] - 2s 22ms/step - loss: 0.2301 - accuracy: 0.9164 - val_loss: 0.3553 - val_accuracy: 0.8752\n",
      "Epoch 181/200\n",
      "94/94 [==============================] - 2s 22ms/step - loss: 0.2298 - accuracy: 0.9172 - val_loss: 0.3539 - val_accuracy: 0.8764\n",
      "Epoch 182/200\n",
      "94/94 [==============================] - 2s 22ms/step - loss: 0.2292 - accuracy: 0.9169 - val_loss: 0.3548 - val_accuracy: 0.8770\n",
      "Epoch 183/200\n",
      "94/94 [==============================] - 2s 22ms/step - loss: 0.2292 - accuracy: 0.9168 - val_loss: 0.3514 - val_accuracy: 0.8777\n",
      "Epoch 184/200\n",
      "94/94 [==============================] - 2s 23ms/step - loss: 0.2288 - accuracy: 0.9170 - val_loss: 0.3554 - val_accuracy: 0.8767\n",
      "Epoch 185/200\n",
      "94/94 [==============================] - 2s 22ms/step - loss: 0.2279 - accuracy: 0.9175 - val_loss: 0.3550 - val_accuracy: 0.8764\n",
      "Epoch 186/200\n",
      "94/94 [==============================] - 2s 23ms/step - loss: 0.2253 - accuracy: 0.9181 - val_loss: 0.3518 - val_accuracy: 0.8774\n",
      "Epoch 187/200\n",
      "94/94 [==============================] - 2s 23ms/step - loss: 0.2272 - accuracy: 0.9171 - val_loss: 0.3490 - val_accuracy: 0.8796\n",
      "Epoch 188/200\n",
      "94/94 [==============================] - 2s 22ms/step - loss: 0.2289 - accuracy: 0.9161 - val_loss: 0.3529 - val_accuracy: 0.8775\n",
      "Epoch 189/200\n",
      "94/94 [==============================] - 2s 22ms/step - loss: 0.2254 - accuracy: 0.9186 - val_loss: 0.3511 - val_accuracy: 0.8794\n",
      "Epoch 190/200\n",
      "94/94 [==============================] - 2s 22ms/step - loss: 0.2256 - accuracy: 0.9183 - val_loss: 0.3503 - val_accuracy: 0.8785\n",
      "Epoch 191/200\n",
      "94/94 [==============================] - 2s 22ms/step - loss: 0.2240 - accuracy: 0.9190 - val_loss: 0.3523 - val_accuracy: 0.8789\n",
      "Epoch 192/200\n",
      "94/94 [==============================] - 2s 22ms/step - loss: 0.2239 - accuracy: 0.9190 - val_loss: 0.3605 - val_accuracy: 0.8745\n",
      "Epoch 193/200\n",
      "94/94 [==============================] - 2s 22ms/step - loss: 0.2248 - accuracy: 0.9182 - val_loss: 0.3515 - val_accuracy: 0.8783\n",
      "Epoch 194/200\n",
      "94/94 [==============================] - 2s 23ms/step - loss: 0.2236 - accuracy: 0.9193 - val_loss: 0.3586 - val_accuracy: 0.8749\n",
      "Epoch 195/200\n",
      "94/94 [==============================] - 2s 22ms/step - loss: 0.2252 - accuracy: 0.9184 - val_loss: 0.3565 - val_accuracy: 0.8785\n",
      "Epoch 196/200\n",
      "94/94 [==============================] - 2s 23ms/step - loss: 0.2225 - accuracy: 0.9198 - val_loss: 0.3605 - val_accuracy: 0.8762\n",
      "Epoch 197/200\n",
      "94/94 [==============================] - 2s 22ms/step - loss: 0.2255 - accuracy: 0.9186 - val_loss: 0.3663 - val_accuracy: 0.8737\n",
      "Epoch 198/200\n",
      "94/94 [==============================] - 2s 22ms/step - loss: 0.2224 - accuracy: 0.9194 - val_loss: 0.3580 - val_accuracy: 0.8756\n",
      "Epoch 199/200\n",
      "94/94 [==============================] - 2s 22ms/step - loss: 0.2209 - accuracy: 0.9200 - val_loss: 0.3610 - val_accuracy: 0.8751\n",
      "Epoch 200/200\n",
      "94/94 [==============================] - 2s 25ms/step - loss: 0.2211 - accuracy: 0.9203 - val_loss: 0.3572 - val_accuracy: 0.8775\n"
     ]
    },
    {
     "data": {
      "text/plain": [
       "<keras.callbacks.History at 0x7f2cd257e0a0>"
      ]
     },
     "execution_count": 44,
     "metadata": {},
     "output_type": "execute_result"
    }
   ],
   "source": [
    "\n",
    "cnn_model.fit(X_train,y_train,batch_size =512,epochs = epochs,verbose = 1,validation_data = (X_validate,y_validate) )"
   ]
  },
  {
   "cell_type": "code",
   "execution_count": null,
   "metadata": {
    "colab": {
     "base_uri": "https://localhost:8080/"
    },
    "id": "OdPP1tCx7yXa",
    "outputId": "804a407c-7d47-4af4-fc84-b69b610c33ce"
   },
   "outputs": [
    {
     "name": "stdout",
     "output_type": "stream",
     "text": [
      "313/313 [==============================] - 1s 2ms/step - loss: 0.3451 - accuracy: 0.8813\n",
      "Test Accuracy : 0.881\n"
     ]
    }
   ],
   "source": [
    "evaluation = cnn_model.evaluate(X_test,y_test)\n",
    "print('Test Accuracy : {:.3f}'.format(evaluation[1]))"
   ]
  },
  {
   "cell_type": "code",
   "execution_count": null,
   "metadata": {
    "colab": {
     "base_uri": "https://localhost:8080/"
    },
    "id": "upogqyEZ76TZ",
    "outputId": "35ada5cd-9f2c-4fdf-d534-79af9291c4e1"
   },
   "outputs": [
    {
     "name": "stdout",
     "output_type": "stream",
     "text": [
      "313/313 [==============================] - 0s 2ms/step\n"
     ]
    }
   ],
   "source": [
    "predicted_classes = np.argmax(cnn_model.predict(X_test),axis=-1)\n"
   ]
  },
  {
   "cell_type": "code",
   "execution_count": null,
   "metadata": {
    "colab": {
     "base_uri": "https://localhost:8080/"
    },
    "id": "LmJsMlvr86e5",
    "outputId": "142586bb-d722-449d-c122-e426e5697763"
   },
   "outputs": [
    {
     "data": {
      "text/plain": [
       "array([0, 1, 2, ..., 8, 8, 1])"
      ]
     },
     "execution_count": 71,
     "metadata": {},
     "output_type": "execute_result"
    }
   ],
   "source": [
    "predicted_classes"
   ]
  },
  {
   "cell_type": "code",
   "execution_count": null,
   "metadata": {
    "colab": {
     "base_uri": "https://localhost:8080/",
     "height": 697
    },
    "id": "E5AyGxXc8_aH",
    "outputId": "f17d603b-1be7-4345-fbc5-0c34f53e0b92"
   },
   "outputs": [
    {
     "data": {
      "image/png": "[encoded data removed]",
      "text/plain": [
       "<Figure size 864x864 with 25 Axes>"
      ]
     },
     "metadata": {
      "needs_background": "light"
     },
     "output_type": "display_data"
    }
   ],
   "source": [
    "L = 5\n",
    "W = 5\n",
    "\n",
    "fig,axes = plt.subplots(L,W,figsize = (12,12))\n",
    "axes = axes.ravel()\n",
    "for i in np.arange(0,L*W):\n",
    "    axes[i].imshow(X_test[i].reshape(28,28))\n",
    "    axes[i].set_title('Prediction Class:{1} \\n true class: {1}'.format(predicted_classes[i],y_test[i]))\n",
    "    axes[i].axis('off')\n",
    "plt.subplots_adjust(wspace = 0.5)  "
   ]
  },
  {
   "cell_type": "code",
   "execution_count": null,
   "metadata": {
    "colab": {
     "base_uri": "https://localhost:8080/"
    },
    "id": "1j24BwIxPdeR",
    "outputId": "21b80c6e-99c4-4e22-fb17-f504e5682e32"
   },
   "outputs": [
    {
     "name": "stdout",
     "output_type": "stream",
     "text": [
      "              precision    recall  f1-score   support\n",
      "\n",
      "     Class 0       0.80      0.86      0.83      1000\n",
      "     Class 1       0.96      0.98      0.97      1000\n",
      "     Class 2       0.84      0.80      0.82      1000\n",
      "     Class 3       0.88      0.91      0.89      1000\n",
      "     Class 4       0.82      0.80      0.81      1000\n",
      "     Class 5       0.96      0.94      0.95      1000\n",
      "     Class 6       0.69      0.66      0.68      1000\n",
      "     Class 7       0.94      0.92      0.93      1000\n",
      "     Class 8       0.97      0.98      0.97      1000\n",
      "     Class 9       0.93      0.97      0.95      1000\n",
      "\n",
      "    accuracy                           0.88     10000\n",
      "   macro avg       0.88      0.88      0.88     10000\n",
      "weighted avg       0.88      0.88      0.88     10000\n",
      "\n"
     ]
    }
   ],
   "source": [
    "from sklearn.metrics import classification_report\n",
    "\n",
    "classes = 10\n",
    "targets = [\"Class {}\".format(i) for i in range(classes)]\n",
    "print(classification_report(y_test, predicted_classes, target_names = targets))"
   ]
  }
 ],
 "metadata": {
  "colab": {
   "provenance": []
  },
  "kernelspec": {
   "display_name": "Python 3 (ipykernel)",
   "language": "python",
   "name": "python3"
  },
  "language_info": {
   "codemirror_mode": {
    "name": "ipython",
    "version": 3
   },
   "file_extension": ".py",
   "mimetype": "text/x-python",
   "name": "python",
   "nbconvert_exporter": "python",
   "pygments_lexer": "ipython3",
   "version": "3.10.4"
  }
 },
 "nbformat": 4,
 "nbformat_minor": 1
}
