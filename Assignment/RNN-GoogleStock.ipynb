{
 "cells": [
  {
   "cell_type": "markdown",
   "metadata": {},
   "source": [
    "# GoogleStock Prediction Using RNN"
   ]
  },
  {
   "cell_type": "code",
   "execution_count": 31,
   "metadata": {},
   "outputs": [],
   "source": [
    "import numpy as np\n",
    "import pandas as pd\n",
    "import matplotlib.pyplot as plt"
   ]
  },
  {
   "cell_type": "code",
   "execution_count": 32,
   "metadata": {},
   "outputs": [
    {
     "data": {
      "text/html": [
       "<div>\n",
       "<style scoped>\n",
       "    .dataframe tbody tr th:only-of-type {\n",
       "        vertical-align: middle;\n",
       "    }\n",
       "\n",
       "    .dataframe tbody tr th {\n",
       "        vertical-align: top;\n",
       "    }\n",
       "\n",
       "    .dataframe thead th {\n",
       "        text-align: right;\n",
       "    }\n",
       "</style>\n",
       "<table border=\"1\" class=\"dataframe\">\n",
       "  <thead>\n",
       "    <tr style=\"text-align: right;\">\n",
       "      <th></th>\n",
       "      <th>Date</th>\n",
       "      <th>Open</th>\n",
       "      <th>High</th>\n",
       "      <th>Low</th>\n",
       "      <th>Close</th>\n",
       "      <th>Volume</th>\n",
       "    </tr>\n",
       "  </thead>\n",
       "  <tbody>\n",
       "    <tr>\n",
       "      <th>0</th>\n",
       "      <td>1/3/2012</td>\n",
       "      <td>325.25</td>\n",
       "      <td>332.83</td>\n",
       "      <td>324.97</td>\n",
       "      <td>663.59</td>\n",
       "      <td>7,380,500</td>\n",
       "    </tr>\n",
       "    <tr>\n",
       "      <th>1</th>\n",
       "      <td>1/4/2012</td>\n",
       "      <td>331.27</td>\n",
       "      <td>333.87</td>\n",
       "      <td>329.08</td>\n",
       "      <td>666.45</td>\n",
       "      <td>5,749,400</td>\n",
       "    </tr>\n",
       "    <tr>\n",
       "      <th>2</th>\n",
       "      <td>1/5/2012</td>\n",
       "      <td>329.83</td>\n",
       "      <td>330.75</td>\n",
       "      <td>326.89</td>\n",
       "      <td>657.21</td>\n",
       "      <td>6,590,300</td>\n",
       "    </tr>\n",
       "    <tr>\n",
       "      <th>3</th>\n",
       "      <td>1/6/2012</td>\n",
       "      <td>328.34</td>\n",
       "      <td>328.77</td>\n",
       "      <td>323.68</td>\n",
       "      <td>648.24</td>\n",
       "      <td>5,405,900</td>\n",
       "    </tr>\n",
       "    <tr>\n",
       "      <th>4</th>\n",
       "      <td>1/9/2012</td>\n",
       "      <td>322.04</td>\n",
       "      <td>322.29</td>\n",
       "      <td>309.46</td>\n",
       "      <td>620.76</td>\n",
       "      <td>11,688,800</td>\n",
       "    </tr>\n",
       "  </tbody>\n",
       "</table>\n",
       "</div>"
      ],
      "text/plain": [
       "       Date    Open    High     Low   Close      Volume\n",
       "0  1/3/2012  325.25  332.83  324.97  663.59   7,380,500\n",
       "1  1/4/2012  331.27  333.87  329.08  666.45   5,749,400\n",
       "2  1/5/2012  329.83  330.75  326.89  657.21   6,590,300\n",
       "3  1/6/2012  328.34  328.77  323.68  648.24   5,405,900\n",
       "4  1/9/2012  322.04  322.29  309.46  620.76  11,688,800"
      ]
     },
     "execution_count": 32,
     "metadata": {},
     "output_type": "execute_result"
    }
   ],
   "source": [
    "training_set = pd.read_csv('GoogleStockPrice_Train.csv')\n",
    "training_set.head()"
   ]
  },
  {
   "cell_type": "code",
   "execution_count": 33,
   "metadata": {},
   "outputs": [
    {
     "data": {
      "text/plain": [
       "(1258, 6)"
      ]
     },
     "execution_count": 33,
     "metadata": {},
     "output_type": "execute_result"
    }
   ],
   "source": [
    "training_set.shape"
   ]
  },
  {
   "cell_type": "markdown",
   "metadata": {},
   "source": [
    "### Check for Null and Duplicate Values"
   ]
  },
  {
   "cell_type": "code",
   "execution_count": 34,
   "metadata": {},
   "outputs": [
    {
     "data": {
      "text/plain": [
       "Date      0\n",
       "Open      0\n",
       "High      0\n",
       "Low       0\n",
       "Close     0\n",
       "Volume    0\n",
       "dtype: int64"
      ]
     },
     "execution_count": 34,
     "metadata": {},
     "output_type": "execute_result"
    }
   ],
   "source": [
    "training_set.isnull().sum()"
   ]
  },
  {
   "cell_type": "code",
   "execution_count": 35,
   "metadata": {},
   "outputs": [
    {
     "data": {
      "text/plain": [
       "0"
      ]
     },
     "execution_count": 35,
     "metadata": {},
     "output_type": "execute_result"
    }
   ],
   "source": [
    "training_set.duplicated().sum()"
   ]
  },
  {
   "cell_type": "markdown",
   "metadata": {},
   "source": [
    "### Data Visualization"
   ]
  },
  {
   "cell_type": "code",
   "execution_count": 36,
   "metadata": {},
   "outputs": [
    {
     "data": {
      "image/png": "[encoded data removed]",
      "text/plain": [
       "<Figure size 432x288 with 1 Axes>"
      ]
     },
     "metadata": {
      "needs_background": "light"
     },
     "output_type": "display_data"
    }
   ],
   "source": [
    "plt.plot(training_set['Open'])\n",
    "plt.show()"
   ]
  },
  {
   "cell_type": "code",
   "execution_count": 37,
   "metadata": {},
   "outputs": [
    {
     "data": {
      "image/png": "[encoded data removed]",
      "text/plain": [
       "<Figure size 432x288 with 1 Axes>"
      ]
     },
     "metadata": {
      "needs_background": "light"
     },
     "output_type": "display_data"
    }
   ],
   "source": [
    "plt.hist(training_set['Open'])\n",
    "plt.show()"
   ]
  },
  {
   "cell_type": "markdown",
   "metadata": {},
   "source": [
    "### Selecting Opening Price for Time Series"
   ]
  },
  {
   "cell_type": "code",
   "execution_count": 38,
   "metadata": {},
   "outputs": [
    {
     "data": {
      "text/plain": [
       "array([[325.25],\n",
       "       [331.27],\n",
       "       [329.83],\n",
       "       ...,\n",
       "       [793.7 ],\n",
       "       [783.33],\n",
       "       [782.75]])"
      ]
     },
     "execution_count": 38,
     "metadata": {},
     "output_type": "execute_result"
    }
   ],
   "source": [
    "training_set = training_set.iloc[:, 1:2].values\n",
    "training_set"
   ]
  },
  {
   "cell_type": "markdown",
   "metadata": {},
   "source": [
    "### Standardizing the Data"
   ]
  },
  {
   "cell_type": "code",
   "execution_count": 39,
   "metadata": {},
   "outputs": [],
   "source": [
    "from sklearn.preprocessing import MinMaxScaler\n",
    "sc = MinMaxScaler()\n",
    "training_set = sc.fit_transform(training_set)"
   ]
  },
  {
   "cell_type": "code",
   "execution_count": 40,
   "metadata": {},
   "outputs": [
    {
     "data": {
      "text/plain": [
       "array([[0.08581368],\n",
       "       [0.09701243],\n",
       "       [0.09433366],\n",
       "       ...,\n",
       "       [0.95725128],\n",
       "       [0.93796041],\n",
       "       [0.93688146]])"
      ]
     },
     "execution_count": 40,
     "metadata": {},
     "output_type": "execute_result"
    }
   ],
   "source": [
    "training_set"
   ]
  },
  {
   "cell_type": "code",
   "execution_count": 41,
   "metadata": {},
   "outputs": [],
   "source": [
    "X_train= training_set[0:1257]\n",
    "y_train= training_set[1:1258]\n",
    "\n",
    "X_train=np.reshape(X_train, (1257 , 1 , 1))"
   ]
  },
  {
   "cell_type": "code",
   "execution_count": 42,
   "metadata": {},
   "outputs": [],
   "source": [
    "from keras.models import Sequential\n",
    "from keras.layers import Dense, LSTM"
   ]
  },
  {
   "cell_type": "code",
   "execution_count": 43,
   "metadata": {},
   "outputs": [],
   "source": [
    "regressor = Sequential()\n",
    "\n",
    "regressor.add(LSTM(units=50, activation='sigmoid',\n",
    "                   return_sequences=True, input_shape=(None, 1)))\n",
    "\n",
    "regressor.add(LSTM(units=50, activation='sigmoid',\n",
    "                   return_sequences=True, input_shape=(None, 1)))\n",
    "\n",
    "regressor.add(Dense(units=1))\n"
   ]
  },
  {
   "cell_type": "code",
   "execution_count": 44,
   "metadata": {},
   "outputs": [],
   "source": [
    "regressor.compile(optimizer='adam', loss='mean_squared_error')"
   ]
  },
  {
   "cell_type": "code",
   "execution_count": 45,
   "metadata": {},
   "outputs": [
    {
     "name": "stdout",
     "output_type": "stream",
     "text": [
      "Epoch 1/200\n",
      "40/40 [==============================] - 0s 2ms/step - loss: 0.1989\n",
      "Epoch 2/200\n",
      "40/40 [==============================] - 0s 2ms/step - loss: 0.0796\n",
      "Epoch 3/200\n",
      "40/40 [==============================] - 0s 2ms/step - loss: 0.0773\n",
      "Epoch 4/200\n",
      "40/40 [==============================] - 0s 2ms/step - loss: 0.0759\n",
      "Epoch 5/200\n",
      "40/40 [==============================] - 0s 2ms/step - loss: 0.0745\n",
      "Epoch 6/200\n",
      "40/40 [==============================] - 0s 3ms/step - loss: 0.0733\n",
      "Epoch 7/200\n",
      "40/40 [==============================] - 0s 2ms/step - loss: 0.0711\n",
      "Epoch 8/200\n",
      "40/40 [==============================] - 0s 2ms/step - loss: 0.0688\n",
      "Epoch 9/200\n",
      "40/40 [==============================] - 0s 2ms/step - loss: 0.0664\n",
      "Epoch 10/200\n",
      "40/40 [==============================] - 0s 2ms/step - loss: 0.0634\n",
      "Epoch 11/200\n",
      "40/40 [==============================] - 0s 2ms/step - loss: 0.0599\n",
      "Epoch 12/200\n",
      "40/40 [==============================] - 0s 2ms/step - loss: 0.0555\n",
      "Epoch 13/200\n",
      "40/40 [==============================] - 0s 2ms/step - loss: 0.0505\n",
      "Epoch 14/200\n",
      "40/40 [==============================] - 0s 2ms/step - loss: 0.0452\n",
      "Epoch 15/200\n",
      "40/40 [==============================] - 0s 2ms/step - loss: 0.0394\n",
      "Epoch 16/200\n",
      "40/40 [==============================] - 0s 2ms/step - loss: 0.0330\n",
      "Epoch 17/200\n",
      "40/40 [==============================] - 0s 2ms/step - loss: 0.0268\n",
      "Epoch 18/200\n",
      "40/40 [==============================] - 0s 2ms/step - loss: 0.0207\n",
      "Epoch 19/200\n",
      "40/40 [==============================] - 0s 2ms/step - loss: 0.0151\n",
      "Epoch 20/200\n",
      "40/40 [==============================] - 0s 2ms/step - loss: 0.0102\n",
      "Epoch 21/200\n",
      "40/40 [==============================] - 0s 2ms/step - loss: 0.0066\n",
      "Epoch 22/200\n",
      "40/40 [==============================] - 0s 2ms/step - loss: 0.0038\n",
      "Epoch 23/200\n",
      "40/40 [==============================] - 0s 2ms/step - loss: 0.0021\n",
      "Epoch 24/200\n",
      "40/40 [==============================] - 0s 4ms/step - loss: 0.0011\n",
      "Epoch 25/200\n",
      "40/40 [==============================] - 0s 6ms/step - loss: 6.3172e-04\n",
      "Epoch 26/200\n",
      "40/40 [==============================] - 0s 2ms/step - loss: 4.2295e-04\n",
      "Epoch 27/200\n",
      "40/40 [==============================] - 0s 2ms/step - loss: 3.3836e-04\n",
      "Epoch 28/200\n",
      "40/40 [==============================] - 0s 2ms/step - loss: 3.1423e-04\n",
      "Epoch 29/200\n",
      "40/40 [==============================] - 0s 2ms/step - loss: 2.9810e-04\n",
      "Epoch 30/200\n",
      "40/40 [==============================] - 0s 2ms/step - loss: 2.9547e-04\n",
      "Epoch 31/200\n",
      "40/40 [==============================] - 0s 2ms/step - loss: 2.9836e-04\n",
      "Epoch 32/200\n",
      "40/40 [==============================] - 0s 3ms/step - loss: 2.9577e-04\n",
      "Epoch 33/200\n",
      "40/40 [==============================] - 0s 4ms/step - loss: 2.9726e-04\n",
      "Epoch 34/200\n",
      "40/40 [==============================] - 0s 3ms/step - loss: 2.9865e-04\n",
      "Epoch 35/200\n",
      "40/40 [==============================] - 0s 4ms/step - loss: 2.9357e-04\n",
      "Epoch 36/200\n",
      "40/40 [==============================] - 0s 3ms/step - loss: 2.9037e-04\n",
      "Epoch 37/200\n",
      "40/40 [==============================] - 0s 3ms/step - loss: 2.9366e-04\n",
      "Epoch 38/200\n",
      "40/40 [==============================] - 0s 5ms/step - loss: 2.9870e-04\n",
      "Epoch 39/200\n",
      "40/40 [==============================] - 0s 3ms/step - loss: 2.9359e-04\n",
      "Epoch 40/200\n",
      "40/40 [==============================] - 0s 4ms/step - loss: 2.9479e-04\n",
      "Epoch 41/200\n",
      "40/40 [==============================] - 0s 3ms/step - loss: 2.9190e-04\n",
      "Epoch 42/200\n",
      "40/40 [==============================] - 0s 3ms/step - loss: 2.9251e-04\n",
      "Epoch 43/200\n",
      "40/40 [==============================] - 0s 3ms/step - loss: 3.1770e-04\n",
      "Epoch 44/200\n",
      "40/40 [==============================] - 0s 5ms/step - loss: 2.9624e-04\n",
      "Epoch 45/200\n",
      "40/40 [==============================] - 0s 3ms/step - loss: 2.9209e-04\n",
      "Epoch 46/200\n",
      "40/40 [==============================] - 0s 3ms/step - loss: 2.9119e-04\n",
      "Epoch 47/200\n",
      "40/40 [==============================] - 0s 4ms/step - loss: 2.9104e-04\n",
      "Epoch 48/200\n",
      "40/40 [==============================] - 0s 3ms/step - loss: 2.9356e-04\n",
      "Epoch 49/200\n",
      "40/40 [==============================] - ETA: 0s - loss: 2.8802e-0 - 0s 3ms/step - loss: 2.8689e-04\n",
      "Epoch 50/200\n",
      "40/40 [==============================] - 0s 2ms/step - loss: 2.8519e-04\n",
      "Epoch 51/200\n",
      "40/40 [==============================] - 0s 2ms/step - loss: 2.9125e-04\n",
      "Epoch 52/200\n",
      "40/40 [==============================] - 0s 2ms/step - loss: 2.8403e-04\n",
      "Epoch 53/200\n",
      "40/40 [==============================] - 0s 2ms/step - loss: 2.8657e-04\n",
      "Epoch 54/200\n",
      "40/40 [==============================] - 0s 5ms/step - loss: 2.8597e-04\n",
      "Epoch 55/200\n",
      "40/40 [==============================] - 0s 3ms/step - loss: 3.0748e-04\n",
      "Epoch 56/200\n",
      "40/40 [==============================] - 0s 3ms/step - loss: 3.3442e-04\n",
      "Epoch 57/200\n",
      "40/40 [==============================] - 0s 6ms/step - loss: 2.9788e-04\n",
      "Epoch 58/200\n",
      "40/40 [==============================] - 0s 6ms/step - loss: 2.9007e-04\n",
      "Epoch 59/200\n",
      "40/40 [==============================] - 0s 5ms/step - loss: 2.8620e-04\n",
      "Epoch 60/200\n",
      "40/40 [==============================] - 0s 3ms/step - loss: 2.8140e-04\n",
      "Epoch 61/200\n",
      "40/40 [==============================] - 0s 5ms/step - loss: 2.8255e-04\n",
      "Epoch 62/200\n",
      "40/40 [==============================] - 0s 2ms/step - loss: 2.8305e-04\n",
      "Epoch 63/200\n",
      "40/40 [==============================] - 0s 2ms/step - loss: 2.8130e-04\n",
      "Epoch 64/200\n",
      "40/40 [==============================] - 0s 2ms/step - loss: 2.8037e-04\n",
      "Epoch 65/200\n",
      "40/40 [==============================] - 0s 2ms/step - loss: 2.8802e-04\n",
      "Epoch 66/200\n",
      "40/40 [==============================] - 0s 2ms/step - loss: 2.8158e-04\n",
      "Epoch 67/200\n",
      "40/40 [==============================] - 0s 2ms/step - loss: 2.9026e-04\n",
      "Epoch 68/200\n",
      "40/40 [==============================] - 0s 2ms/step - loss: 2.8276e-04\n",
      "Epoch 69/200\n",
      "40/40 [==============================] - 0s 2ms/step - loss: 2.9886e-04\n",
      "Epoch 70/200\n",
      "40/40 [==============================] - 0s 2ms/step - loss: 2.9106e-04\n",
      "Epoch 71/200\n",
      "40/40 [==============================] - 0s 2ms/step - loss: 2.8410e-04\n",
      "Epoch 72/200\n",
      "40/40 [==============================] - 0s 2ms/step - loss: 2.9426e-04\n",
      "Epoch 73/200\n",
      "40/40 [==============================] - 0s 4ms/step - loss: 2.9051e-04\n",
      "Epoch 74/200\n",
      "40/40 [==============================] - 0s 5ms/step - loss: 2.8866e-04\n",
      "Epoch 75/200\n",
      "40/40 [==============================] - 0s 3ms/step - loss: 2.7709e-04\n",
      "Epoch 76/200\n",
      "40/40 [==============================] - 0s 2ms/step - loss: 2.8715e-04\n",
      "Epoch 77/200\n",
      "40/40 [==============================] - 0s 2ms/step - loss: 2.7275e-04\n",
      "Epoch 78/200\n",
      "40/40 [==============================] - 0s 2ms/step - loss: 2.8599e-04\n",
      "Epoch 79/200\n",
      "40/40 [==============================] - 0s 2ms/step - loss: 3.0043e-04\n",
      "Epoch 80/200\n",
      "40/40 [==============================] - 0s 2ms/step - loss: 2.7818e-04\n",
      "Epoch 81/200\n",
      "40/40 [==============================] - 0s 2ms/step - loss: 2.8202e-04\n",
      "Epoch 82/200\n",
      "40/40 [==============================] - 0s 2ms/step - loss: 2.7891e-04\n",
      "Epoch 83/200\n",
      "40/40 [==============================] - 0s 4ms/step - loss: 2.6968e-04\n",
      "Epoch 84/200\n",
      "40/40 [==============================] - 0s 3ms/step - loss: 2.8295e-04\n",
      "Epoch 85/200\n",
      "40/40 [==============================] - 0s 3ms/step - loss: 2.7109e-04\n",
      "Epoch 86/200\n",
      "40/40 [==============================] - 0s 3ms/step - loss: 2.7355e-04\n",
      "Epoch 87/200\n",
      "40/40 [==============================] - 0s 4ms/step - loss: 2.6940e-04\n",
      "Epoch 88/200\n",
      "40/40 [==============================] - 0s 3ms/step - loss: 2.9576e-04\n",
      "Epoch 89/200\n",
      "40/40 [==============================] - 0s 6ms/step - loss: 2.7624e-04\n",
      "Epoch 90/200\n",
      "40/40 [==============================] - 0s 4ms/step - loss: 2.8681e-04\n",
      "Epoch 91/200\n",
      "40/40 [==============================] - 0s 2ms/step - loss: 2.7852e-04\n",
      "Epoch 92/200\n",
      "40/40 [==============================] - 0s 2ms/step - loss: 2.7619e-04\n",
      "Epoch 93/200\n",
      "40/40 [==============================] - 0s 2ms/step - loss: 2.7303e-04\n",
      "Epoch 94/200\n",
      "40/40 [==============================] - 0s 2ms/step - loss: 2.8331e-04\n",
      "Epoch 95/200\n",
      "40/40 [==============================] - 0s 2ms/step - loss: 2.8795e-04\n",
      "Epoch 96/200\n",
      "40/40 [==============================] - 0s 2ms/step - loss: 2.7128e-04\n",
      "Epoch 97/200\n",
      "40/40 [==============================] - 0s 2ms/step - loss: 2.8338e-04\n",
      "Epoch 98/200\n",
      "40/40 [==============================] - 0s 2ms/step - loss: 2.6674e-04\n",
      "Epoch 99/200\n",
      "40/40 [==============================] - 0s 2ms/step - loss: 2.6533e-04\n",
      "Epoch 100/200\n",
      "40/40 [==============================] - 0s 2ms/step - loss: 3.1593e-04\n",
      "Epoch 101/200\n",
      "40/40 [==============================] - 0s 2ms/step - loss: 2.8031e-04\n",
      "Epoch 102/200\n",
      "40/40 [==============================] - 0s 2ms/step - loss: 2.7160e-04\n",
      "Epoch 103/200\n",
      "40/40 [==============================] - 0s 2ms/step - loss: 2.6868e-04\n",
      "Epoch 104/200\n",
      "40/40 [==============================] - 0s 2ms/step - loss: 2.6823e-04\n",
      "Epoch 105/200\n",
      "40/40 [==============================] - 0s 2ms/step - loss: 2.7111e-04\n",
      "Epoch 106/200\n",
      "40/40 [==============================] - 0s 4ms/step - loss: 2.8908e-04\n",
      "Epoch 107/200\n",
      "40/40 [==============================] - 0s 6ms/step - loss: 3.6397e-04\n",
      "Epoch 108/200\n",
      "40/40 [==============================] - 0s 4ms/step - loss: 2.8218e-04\n",
      "Epoch 109/200\n",
      "40/40 [==============================] - 0s 2ms/step - loss: 2.6501e-04\n",
      "Epoch 110/200\n",
      "40/40 [==============================] - 0s 2ms/step - loss: 2.7657e-04\n",
      "Epoch 111/200\n",
      "40/40 [==============================] - 0s 2ms/step - loss: 2.7888e-04\n",
      "Epoch 112/200\n",
      "40/40 [==============================] - 0s 3ms/step - loss: 2.6875e-04\n",
      "Epoch 113/200\n",
      "40/40 [==============================] - 0s 5ms/step - loss: 3.1344e-04\n",
      "Epoch 114/200\n",
      "40/40 [==============================] - 0s 3ms/step - loss: 2.9816e-04\n",
      "Epoch 115/200\n",
      "40/40 [==============================] - 0s 3ms/step - loss: 2.7799e-04\n",
      "Epoch 116/200\n",
      "40/40 [==============================] - 0s 3ms/step - loss: 2.7780e-04\n",
      "Epoch 117/200\n",
      "40/40 [==============================] - 0s 3ms/step - loss: 2.7390e-04\n",
      "Epoch 118/200\n",
      "40/40 [==============================] - 0s 2ms/step - loss: 2.6738e-04\n",
      "Epoch 119/200\n",
      "40/40 [==============================] - 0s 4ms/step - loss: 2.6587e-04\n",
      "Epoch 120/200\n",
      "40/40 [==============================] - 0s 3ms/step - loss: 2.6249e-04\n",
      "Epoch 121/200\n",
      "40/40 [==============================] - 0s 4ms/step - loss: 2.7723e-04\n",
      "Epoch 122/200\n",
      "40/40 [==============================] - 0s 2ms/step - loss: 2.7973e-04\n",
      "Epoch 123/200\n",
      "40/40 [==============================] - 0s 2ms/step - loss: 2.7164e-04\n",
      "Epoch 124/200\n",
      "40/40 [==============================] - 0s 2ms/step - loss: 2.8375e-04\n",
      "Epoch 125/200\n",
      "40/40 [==============================] - 0s 2ms/step - loss: 2.8855e-04\n",
      "Epoch 126/200\n",
      "40/40 [==============================] - 0s 3ms/step - loss: 2.7970e-04\n",
      "Epoch 127/200\n",
      "40/40 [==============================] - 0s 3ms/step - loss: 2.8403e-04\n",
      "Epoch 128/200\n",
      "40/40 [==============================] - 0s 3ms/step - loss: 2.7296e-04\n",
      "Epoch 129/200\n",
      "40/40 [==============================] - 0s 5ms/step - loss: 3.3547e-04\n",
      "Epoch 130/200\n",
      "40/40 [==============================] - 0s 2ms/step - loss: 2.8928e-04\n",
      "Epoch 131/200\n",
      "40/40 [==============================] - 0s 2ms/step - loss: 2.6035e-04\n",
      "Epoch 132/200\n",
      "40/40 [==============================] - 0s 2ms/step - loss: 2.8580e-04\n",
      "Epoch 133/200\n",
      "40/40 [==============================] - 0s 2ms/step - loss: 2.7208e-04\n",
      "Epoch 134/200\n",
      "40/40 [==============================] - 0s 4ms/step - loss: 2.6820e-04\n",
      "Epoch 135/200\n",
      "40/40 [==============================] - 0s 6ms/step - loss: 2.8696e-04\n",
      "Epoch 136/200\n",
      "40/40 [==============================] - 0s 2ms/step - loss: 2.7011e-04\n",
      "Epoch 137/200\n",
      "40/40 [==============================] - 0s 2ms/step - loss: 2.7322e-04\n",
      "Epoch 138/200\n",
      "40/40 [==============================] - 0s 2ms/step - loss: 2.7510e-04\n",
      "Epoch 139/200\n",
      "40/40 [==============================] - 0s 2ms/step - loss: 2.7047e-04\n",
      "Epoch 140/200\n",
      "40/40 [==============================] - 0s 2ms/step - loss: 2.7591e-04\n",
      "Epoch 141/200\n",
      "40/40 [==============================] - 0s 2ms/step - loss: 2.5956e-04\n",
      "Epoch 142/200\n",
      "40/40 [==============================] - 0s 2ms/step - loss: 3.1206e-04\n",
      "Epoch 143/200\n",
      "40/40 [==============================] - 0s 2ms/step - loss: 3.1564e-04\n",
      "Epoch 144/200\n",
      "40/40 [==============================] - 0s 2ms/step - loss: 2.8881e-04\n",
      "Epoch 145/200\n",
      "40/40 [==============================] - 0s 2ms/step - loss: 2.5501e-04\n",
      "Epoch 146/200\n",
      "40/40 [==============================] - 0s 2ms/step - loss: 3.1033e-04\n",
      "Epoch 147/200\n",
      "40/40 [==============================] - 0s 2ms/step - loss: 2.9110e-04\n",
      "Epoch 148/200\n",
      "40/40 [==============================] - 0s 2ms/step - loss: 3.1317e-04\n",
      "Epoch 149/200\n",
      "40/40 [==============================] - 0s 2ms/step - loss: 2.8592e-04\n",
      "Epoch 150/200\n",
      "40/40 [==============================] - 0s 3ms/step - loss: 2.6466e-04\n",
      "Epoch 151/200\n",
      "40/40 [==============================] - 0s 4ms/step - loss: 2.9961e-04\n",
      "Epoch 152/200\n",
      "40/40 [==============================] - 0s 6ms/step - loss: 2.6463e-04\n",
      "Epoch 153/200\n",
      "40/40 [==============================] - 0s 2ms/step - loss: 2.7683e-04\n",
      "Epoch 154/200\n",
      "40/40 [==============================] - 0s 2ms/step - loss: 2.9426e-04\n",
      "Epoch 155/200\n",
      "40/40 [==============================] - 0s 2ms/step - loss: 2.8607e-04\n",
      "Epoch 156/200\n",
      "40/40 [==============================] - 0s 2ms/step - loss: 3.3277e-04\n",
      "Epoch 157/200\n",
      "40/40 [==============================] - 0s 2ms/step - loss: 2.6145e-04\n",
      "Epoch 158/200\n",
      "40/40 [==============================] - ETA: 0s - loss: 2.6806e-0 - 0s 2ms/step - loss: 2.6783e-04\n",
      "Epoch 159/200\n",
      "40/40 [==============================] - 0s 2ms/step - loss: 2.7068e-04\n",
      "Epoch 160/200\n",
      "40/40 [==============================] - 0s 2ms/step - loss: 2.5568e-04\n",
      "Epoch 161/200\n",
      "40/40 [==============================] - 0s 2ms/step - loss: 2.7381e-04\n",
      "Epoch 162/200\n",
      "40/40 [==============================] - 0s 2ms/step - loss: 2.7131e-04\n",
      "Epoch 163/200\n",
      "40/40 [==============================] - 0s 2ms/step - loss: 2.6065e-04\n",
      "Epoch 164/200\n",
      "40/40 [==============================] - 0s 4ms/step - loss: 2.6736e-04\n",
      "Epoch 165/200\n",
      "40/40 [==============================] - 0s 6ms/step - loss: 2.6246e-04\n",
      "Epoch 166/200\n",
      "40/40 [==============================] - 0s 4ms/step - loss: 2.7764e-04\n",
      "Epoch 167/200\n",
      "40/40 [==============================] - 0s 4ms/step - loss: 2.9476e-04\n",
      "Epoch 168/200\n",
      "40/40 [==============================] - 0s 3ms/step - loss: 2.7910e-04\n",
      "Epoch 169/200\n",
      "40/40 [==============================] - 0s 2ms/step - loss: 2.6501e-04\n",
      "Epoch 170/200\n",
      "40/40 [==============================] - 0s 2ms/step - loss: 2.7001e-04\n",
      "Epoch 171/200\n",
      "40/40 [==============================] - 0s 2ms/step - loss: 2.6553e-04\n",
      "Epoch 172/200\n",
      "40/40 [==============================] - 0s 2ms/step - loss: 2.7640e-04\n",
      "Epoch 173/200\n",
      "40/40 [==============================] - 0s 2ms/step - loss: 3.1117e-04\n",
      "Epoch 174/200\n",
      "40/40 [==============================] - 0s 3ms/step - loss: 2.6409e-04\n",
      "Epoch 175/200\n",
      "40/40 [==============================] - 0s 3ms/step - loss: 3.0691e-04\n",
      "Epoch 176/200\n",
      "40/40 [==============================] - 0s 4ms/step - loss: 3.1923e-04\n",
      "Epoch 177/200\n",
      "40/40 [==============================] - 0s 4ms/step - loss: 2.8487e-04\n",
      "Epoch 178/200\n",
      "40/40 [==============================] - 0s 6ms/step - loss: 2.6477e-04\n",
      "Epoch 179/200\n",
      "40/40 [==============================] - 0s 4ms/step - loss: 2.7150e-04\n",
      "Epoch 180/200\n",
      "40/40 [==============================] - 0s 4ms/step - loss: 2.7197e-04\n",
      "Epoch 181/200\n",
      "40/40 [==============================] - 0s 3ms/step - loss: 2.9352e-04\n",
      "Epoch 182/200\n",
      "40/40 [==============================] - 0s 2ms/step - loss: 2.8618e-04\n",
      "Epoch 183/200\n",
      "40/40 [==============================] - 0s 2ms/step - loss: 2.7113e-04\n",
      "Epoch 184/200\n",
      "40/40 [==============================] - 0s 3ms/step - loss: 2.7736e-04\n",
      "Epoch 185/200\n",
      "40/40 [==============================] - 0s 3ms/step - loss: 2.6136e-04\n",
      "Epoch 186/200\n",
      "40/40 [==============================] - 0s 4ms/step - loss: 3.3798e-04\n",
      "Epoch 187/200\n",
      "40/40 [==============================] - 0s 3ms/step - loss: 2.8641e-04\n",
      "Epoch 188/200\n",
      "40/40 [==============================] - 0s 3ms/step - loss: 3.0169e-04\n",
      "Epoch 189/200\n",
      "40/40 [==============================] - 0s 4ms/step - loss: 2.9958e-04\n",
      "Epoch 190/200\n",
      "40/40 [==============================] - 0s 6ms/step - loss: 3.0554e-04\n",
      "Epoch 191/200\n",
      "40/40 [==============================] - 0s 4ms/step - loss: 3.1652e-04\n",
      "Epoch 192/200\n",
      "40/40 [==============================] - 0s 3ms/step - loss: 2.6720e-04\n",
      "Epoch 193/200\n",
      "40/40 [==============================] - 0s 2ms/step - loss: 2.8313e-04\n",
      "Epoch 194/200\n",
      "40/40 [==============================] - 0s 2ms/step - loss: 3.0445e-04\n",
      "Epoch 195/200\n",
      "40/40 [==============================] - 0s 2ms/step - loss: 3.2564e-04\n",
      "Epoch 196/200\n",
      "40/40 [==============================] - 0s 3ms/step - loss: 2.9299e-04\n",
      "Epoch 197/200\n",
      "40/40 [==============================] - 0s 3ms/step - loss: 3.0010e-04\n",
      "Epoch 198/200\n",
      "40/40 [==============================] - 0s 4ms/step - loss: 2.9852e-04\n",
      "Epoch 199/200\n",
      "40/40 [==============================] - 0s 3ms/step - loss: 2.8780e-04\n",
      "Epoch 200/200\n",
      "40/40 [==============================] - 0s 5ms/step - loss: 2.6373e-04\n"
     ]
    },
    {
     "data": {
      "text/plain": [
       "<tensorflow.python.keras.callbacks.History at 0x2146a817bb0>"
      ]
     },
     "execution_count": 45,
     "metadata": {},
     "output_type": "execute_result"
    }
   ],
   "source": [
    "regressor.fit(X_train, y_train, batch_size=32, epochs=200)"
   ]
  },
  {
   "cell_type": "markdown",
   "metadata": {},
   "source": [
    "### Import Test Data"
   ]
  },
  {
   "cell_type": "code",
   "execution_count": 46,
   "metadata": {},
   "outputs": [],
   "source": [
    "test_set = pd.read_csv('GoogleStockPrice_Test.csv')\n",
    "real_stock_price = test_set.iloc[:, 1:2].values\n"
   ]
  },
  {
   "cell_type": "code",
   "execution_count": 47,
   "metadata": {},
   "outputs": [
    {
     "data": {
      "text/plain": [
       "array([[778.81],\n",
       "       [788.36],\n",
       "       [786.08],\n",
       "       [795.26],\n",
       "       [806.4 ],\n",
       "       [807.86],\n",
       "       [805.  ],\n",
       "       [807.14],\n",
       "       [807.48],\n",
       "       [807.08],\n",
       "       [805.81],\n",
       "       [805.12],\n",
       "       [806.91],\n",
       "       [807.25],\n",
       "       [822.3 ],\n",
       "       [829.62],\n",
       "       [837.81],\n",
       "       [834.71],\n",
       "       [814.66],\n",
       "       [796.86]])"
      ]
     },
     "execution_count": 47,
     "metadata": {},
     "output_type": "execute_result"
    }
   ],
   "source": [
    "real_stock_price"
   ]
  },
  {
   "cell_type": "markdown",
   "metadata": {},
   "source": [
    "### Scale Down the test data"
   ]
  },
  {
   "cell_type": "code",
   "execution_count": 48,
   "metadata": {},
   "outputs": [],
   "source": [
    "inputs = real_stock_price\n",
    "inputs = sc.transform(inputs)"
   ]
  },
  {
   "cell_type": "code",
   "execution_count": 49,
   "metadata": {},
   "outputs": [
    {
     "data": {
      "text/plain": [
       "array([[0.92955205],\n",
       "       [0.94731751],\n",
       "       [0.94307612],\n",
       "       [0.96015329],\n",
       "       [0.98087655],\n",
       "       [0.98359253],\n",
       "       [0.97827219],\n",
       "       [0.98225314],\n",
       "       [0.98288563],\n",
       "       [0.98214153],\n",
       "       [0.979779  ],\n",
       "       [0.97849542],\n",
       "       [0.98182528],\n",
       "       [0.98245777],\n",
       "       [1.01045465],\n",
       "       [1.02407173],\n",
       "       [1.03930724],\n",
       "       [1.03354044],\n",
       "       [0.99624228],\n",
       "       [0.9631297 ]])"
      ]
     },
     "execution_count": 49,
     "metadata": {},
     "output_type": "execute_result"
    }
   ],
   "source": [
    "inputs"
   ]
  },
  {
   "cell_type": "code",
   "execution_count": 50,
   "metadata": {},
   "outputs": [],
   "source": [
    "inputs = np.reshape(inputs, (20, 1, 1))"
   ]
  },
  {
   "cell_type": "code",
   "execution_count": 51,
   "metadata": {},
   "outputs": [],
   "source": [
    "predicted_stock_price = regressor.predict(inputs)"
   ]
  },
  {
   "cell_type": "code",
   "execution_count": 52,
   "metadata": {},
   "outputs": [
    {
     "data": {
      "text/plain": [
       "array([[[0.92835397]],\n",
       "\n",
       "       [[0.9447913 ]],\n",
       "\n",
       "       [[0.9408769 ]],\n",
       "\n",
       "       [[0.95660007]],\n",
       "\n",
       "       [[0.97554207]],\n",
       "\n",
       "       [[0.9780132 ]],\n",
       "\n",
       "       [[0.97317   ]],\n",
       "\n",
       "       [[0.9767948 ]],\n",
       "\n",
       "       [[0.9773704 ]],\n",
       "\n",
       "       [[0.9766935 ]],\n",
       "\n",
       "       [[0.97454274]],\n",
       "\n",
       "       [[0.9733735 ]],\n",
       "\n",
       "       [[0.9764057 ]],\n",
       "\n",
       "       [[0.9769811 ]],\n",
       "\n",
       "       [[1.0023085 ]],\n",
       "\n",
       "       [[1.0145217 ]],\n",
       "\n",
       "       [[1.0281034 ]],\n",
       "\n",
       "       [[1.0229732 ]],\n",
       "\n",
       "       [[0.98948723]],\n",
       "\n",
       "       [[0.95933   ]]], dtype=float32)"
      ]
     },
     "execution_count": 52,
     "metadata": {},
     "output_type": "execute_result"
    }
   ],
   "source": [
    "predicted_stock_price"
   ]
  },
  {
   "cell_type": "code",
   "execution_count": 53,
   "metadata": {},
   "outputs": [],
   "source": [
    "pred_price = np.reshape(predicted_stock_price, (20, 1))\n"
   ]
  },
  {
   "cell_type": "code",
   "execution_count": 54,
   "metadata": {},
   "outputs": [],
   "source": [
    "pred_price = sc.inverse_transform(pred_price)"
   ]
  },
  {
   "cell_type": "code",
   "execution_count": 55,
   "metadata": {},
   "outputs": [
    {
     "data": {
      "text/plain": [
       "array([[778.16595],\n",
       "       [787.002  ],\n",
       "       [784.89777],\n",
       "       [793.3499 ],\n",
       "       [803.53235],\n",
       "       [804.8608 ],\n",
       "       [802.25726],\n",
       "       [804.2058 ],\n",
       "       [804.5152 ],\n",
       "       [804.15137],\n",
       "       [802.9952 ],\n",
       "       [802.36664],\n",
       "       [803.99664],\n",
       "       [804.30597],\n",
       "       [817.9209 ],\n",
       "       [824.48627],\n",
       "       [831.78723],\n",
       "       [829.0294 ],\n",
       "       [811.02875],\n",
       "       [794.81744]], dtype=float32)"
      ]
     },
     "execution_count": 55,
     "metadata": {},
     "output_type": "execute_result"
    }
   ],
   "source": [
    "pred_price"
   ]
  },
  {
   "cell_type": "code",
   "execution_count": 56,
   "metadata": {},
   "outputs": [
    {
     "data": {
      "image/png": "[encoded data removed]",
      "text/plain": [
       "<Figure size 432x288 with 1 Axes>"
      ]
     },
     "metadata": {
      "needs_background": "light"
     },
     "output_type": "display_data"
    }
   ],
   "source": [
    "plt.plot( real_stock_price , color = 'red' , label = 'Real Google Stock Price')\n",
    "plt.plot(pred_price, color='blue', label='Predicted Google Stock Price')\n",
    "plt.title('Google Stock Price Prediction')\n",
    "plt.xlabel( 'time' )\n",
    "plt.ylabel( 'Google Stock Price' )\n",
    "plt.legend()\n",
    "plt.show()\n"
   ]
  },
  {
   "cell_type": "code",
   "execution_count": null,
   "metadata": {},
   "outputs": [],
   "source": []
  }
 ],
 "metadata": {
  "kernelspec": {
   "display_name": "Python 3 (ipykernel)",
   "language": "python",
   "name": "python3"
  },
  "language_info": {
   "codemirror_mode": {
    "name": "ipython",
    "version": 3
   },
   "file_extension": ".py",
   "mimetype": "text/x-python",
   "name": "python",
   "nbconvert_exporter": "python",
   "pygments_lexer": "ipython3",
   "version": "3.10.4"
  }
 },
 "nbformat": 4,
 "nbformat_minor": 2
}
